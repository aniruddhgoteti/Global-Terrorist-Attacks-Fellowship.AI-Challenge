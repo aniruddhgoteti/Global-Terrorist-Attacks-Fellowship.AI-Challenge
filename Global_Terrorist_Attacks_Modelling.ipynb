{
 "cells": [
  {
   "cell_type": "markdown",
   "metadata": {},
   "source": [
    "# 1.0 Introducing the Data\n",
    "\n",
    "In this section, we are going to import the Global Terrorism Database (GTD) from the local machine"
   ]
  },
  {
   "cell_type": "code",
   "execution_count": 1,
   "metadata": {
    "collapsed": true
   },
   "outputs": [],
   "source": [
    "#Importing libraries\n",
    "import os\n",
    "import pandas as pd \n",
    "import numpy as np"
   ]
  },
  {
   "cell_type": "code",
   "execution_count": 2,
   "metadata": {
    "collapsed": true
   },
   "outputs": [],
   "source": [
    "xl_1=pd.ExcelFile(r\"C:\\Users\\aniru\\OneDrive\\Desktop\\Fellowship.AI\\data1.xlsx\")\n",
    "xl_2=pd.ExcelFile(r\"C:\\Users\\aniru\\OneDrive\\Desktop\\Fellowship.AI\\data2.xlsx\")\n",
    "xl_3=pd.ExcelFile(r\"C:\\Users\\aniru\\OneDrive\\Desktop\\Fellowship.AI\\data3.xlsx\")\n",
    "xl_4=pd.ExcelFile(r\"C:\\Users\\aniru\\OneDrive\\Desktop\\Fellowship.AI\\data4.xlsx\")\n",
    "xl_5=pd.ExcelFile(r\"C:\\Users\\aniru\\OneDrive\\Desktop\\Fellowship.AI\\data5.xlsx\")"
   ]
  },
  {
   "cell_type": "code",
   "execution_count": 3,
   "metadata": {
    "collapsed": true
   },
   "outputs": [],
   "source": [
    "df_1= xl_1.parse(\"Data\")\n",
    "df_2= xl_2.parse(\"Data\")\n",
    "df_3= xl_3.parse(\"Data\")\n",
    "df_4= xl_4.parse(\"Data\")\n",
    "df_5= xl_5.parse(\"Data\")"
   ]
  },
  {
   "cell_type": "code",
   "execution_count": 4,
   "metadata": {},
   "outputs": [
    {
     "data": {
      "text/html": [
       "<div>\n",
       "<style>\n",
       "    .dataframe thead tr:only-child th {\n",
       "        text-align: right;\n",
       "    }\n",
       "\n",
       "    .dataframe thead th {\n",
       "        text-align: left;\n",
       "    }\n",
       "\n",
       "    .dataframe tbody tr th {\n",
       "        vertical-align: top;\n",
       "    }\n",
       "</style>\n",
       "<table border=\"1\" class=\"dataframe\">\n",
       "  <thead>\n",
       "    <tr style=\"text-align: right;\">\n",
       "      <th></th>\n",
       "      <th>eventid</th>\n",
       "      <th>iyear</th>\n",
       "      <th>imonth</th>\n",
       "      <th>iday</th>\n",
       "      <th>approxdate</th>\n",
       "      <th>extended</th>\n",
       "      <th>resolution</th>\n",
       "      <th>country</th>\n",
       "      <th>country_txt</th>\n",
       "      <th>region</th>\n",
       "      <th>...</th>\n",
       "      <th>addnotes</th>\n",
       "      <th>scite1</th>\n",
       "      <th>scite2</th>\n",
       "      <th>scite3</th>\n",
       "      <th>dbsource</th>\n",
       "      <th>INT_LOG</th>\n",
       "      <th>INT_IDEO</th>\n",
       "      <th>INT_MISC</th>\n",
       "      <th>INT_ANY</th>\n",
       "      <th>related</th>\n",
       "    </tr>\n",
       "  </thead>\n",
       "  <tbody>\n",
       "    <tr>\n",
       "      <th>0</th>\n",
       "      <td>197000000001</td>\n",
       "      <td>1970</td>\n",
       "      <td>7</td>\n",
       "      <td>2</td>\n",
       "      <td>NaN</td>\n",
       "      <td>0</td>\n",
       "      <td>NaT</td>\n",
       "      <td>58</td>\n",
       "      <td>Dominican Republic</td>\n",
       "      <td>2</td>\n",
       "      <td>...</td>\n",
       "      <td>NaN</td>\n",
       "      <td>NaN</td>\n",
       "      <td>NaN</td>\n",
       "      <td>NaN</td>\n",
       "      <td>PGIS</td>\n",
       "      <td>0</td>\n",
       "      <td>0</td>\n",
       "      <td>0</td>\n",
       "      <td>0</td>\n",
       "      <td>NaN</td>\n",
       "    </tr>\n",
       "    <tr>\n",
       "      <th>1</th>\n",
       "      <td>197000000002</td>\n",
       "      <td>1970</td>\n",
       "      <td>0</td>\n",
       "      <td>0</td>\n",
       "      <td>NaN</td>\n",
       "      <td>0</td>\n",
       "      <td>NaT</td>\n",
       "      <td>130</td>\n",
       "      <td>Mexico</td>\n",
       "      <td>1</td>\n",
       "      <td>...</td>\n",
       "      <td>NaN</td>\n",
       "      <td>NaN</td>\n",
       "      <td>NaN</td>\n",
       "      <td>NaN</td>\n",
       "      <td>PGIS</td>\n",
       "      <td>0</td>\n",
       "      <td>1</td>\n",
       "      <td>1</td>\n",
       "      <td>1</td>\n",
       "      <td>NaN</td>\n",
       "    </tr>\n",
       "    <tr>\n",
       "      <th>2</th>\n",
       "      <td>197001000001</td>\n",
       "      <td>1970</td>\n",
       "      <td>1</td>\n",
       "      <td>0</td>\n",
       "      <td>NaN</td>\n",
       "      <td>0</td>\n",
       "      <td>NaT</td>\n",
       "      <td>160</td>\n",
       "      <td>Philippines</td>\n",
       "      <td>5</td>\n",
       "      <td>...</td>\n",
       "      <td>NaN</td>\n",
       "      <td>NaN</td>\n",
       "      <td>NaN</td>\n",
       "      <td>NaN</td>\n",
       "      <td>PGIS</td>\n",
       "      <td>-9</td>\n",
       "      <td>-9</td>\n",
       "      <td>1</td>\n",
       "      <td>1</td>\n",
       "      <td>NaN</td>\n",
       "    </tr>\n",
       "    <tr>\n",
       "      <th>3</th>\n",
       "      <td>197001000002</td>\n",
       "      <td>1970</td>\n",
       "      <td>1</td>\n",
       "      <td>0</td>\n",
       "      <td>NaN</td>\n",
       "      <td>0</td>\n",
       "      <td>NaT</td>\n",
       "      <td>78</td>\n",
       "      <td>Greece</td>\n",
       "      <td>8</td>\n",
       "      <td>...</td>\n",
       "      <td>NaN</td>\n",
       "      <td>NaN</td>\n",
       "      <td>NaN</td>\n",
       "      <td>NaN</td>\n",
       "      <td>PGIS</td>\n",
       "      <td>-9</td>\n",
       "      <td>-9</td>\n",
       "      <td>1</td>\n",
       "      <td>1</td>\n",
       "      <td>NaN</td>\n",
       "    </tr>\n",
       "    <tr>\n",
       "      <th>4</th>\n",
       "      <td>197001000003</td>\n",
       "      <td>1970</td>\n",
       "      <td>1</td>\n",
       "      <td>0</td>\n",
       "      <td>NaN</td>\n",
       "      <td>0</td>\n",
       "      <td>NaT</td>\n",
       "      <td>101</td>\n",
       "      <td>Japan</td>\n",
       "      <td>4</td>\n",
       "      <td>...</td>\n",
       "      <td>NaN</td>\n",
       "      <td>NaN</td>\n",
       "      <td>NaN</td>\n",
       "      <td>NaN</td>\n",
       "      <td>PGIS</td>\n",
       "      <td>-9</td>\n",
       "      <td>-9</td>\n",
       "      <td>1</td>\n",
       "      <td>1</td>\n",
       "      <td>NaN</td>\n",
       "    </tr>\n",
       "  </tbody>\n",
       "</table>\n",
       "<p>5 rows × 135 columns</p>\n",
       "</div>"
      ],
      "text/plain": [
       "        eventid  iyear  imonth  iday approxdate  extended resolution  country  \\\n",
       "0  197000000001   1970       7     2        NaN         0        NaT       58   \n",
       "1  197000000002   1970       0     0        NaN         0        NaT      130   \n",
       "2  197001000001   1970       1     0        NaN         0        NaT      160   \n",
       "3  197001000002   1970       1     0        NaN         0        NaT       78   \n",
       "4  197001000003   1970       1     0        NaN         0        NaT      101   \n",
       "\n",
       "          country_txt  region   ...    addnotes scite1 scite2  scite3  \\\n",
       "0  Dominican Republic       2   ...         NaN    NaN    NaN     NaN   \n",
       "1              Mexico       1   ...         NaN    NaN    NaN     NaN   \n",
       "2         Philippines       5   ...         NaN    NaN    NaN     NaN   \n",
       "3              Greece       8   ...         NaN    NaN    NaN     NaN   \n",
       "4               Japan       4   ...         NaN    NaN    NaN     NaN   \n",
       "\n",
       "   dbsource  INT_LOG  INT_IDEO INT_MISC INT_ANY  related  \n",
       "0      PGIS        0         0        0       0      NaN  \n",
       "1      PGIS        0         1        1       1      NaN  \n",
       "2      PGIS       -9        -9        1       1      NaN  \n",
       "3      PGIS       -9        -9        1       1      NaN  \n",
       "4      PGIS       -9        -9        1       1      NaN  \n",
       "\n",
       "[5 rows x 135 columns]"
      ]
     },
     "execution_count": 4,
     "metadata": {},
     "output_type": "execute_result"
    }
   ],
   "source": [
    "df_1.head()\n"
   ]
  },
  {
   "cell_type": "code",
   "execution_count": 5,
   "metadata": {
    "collapsed": true
   },
   "outputs": [],
   "source": [
    "df_1=df_1.append(df_2, ignore_index=True)"
   ]
  },
  {
   "cell_type": "code",
   "execution_count": 6,
   "metadata": {
    "collapsed": true
   },
   "outputs": [],
   "source": [
    "df_1=df_1.append(df_3, ignore_index=True)"
   ]
  },
  {
   "cell_type": "code",
   "execution_count": 7,
   "metadata": {
    "collapsed": true
   },
   "outputs": [],
   "source": [
    "df_1=df_1.append(df_4, ignore_index=True)"
   ]
  },
  {
   "cell_type": "code",
   "execution_count": 8,
   "metadata": {
    "collapsed": true
   },
   "outputs": [],
   "source": [
    "df_1=df_1.append(df_5, ignore_index=True)"
   ]
  },
  {
   "cell_type": "code",
   "execution_count": 200,
   "metadata": {
    "collapsed": true
   },
   "outputs": [],
   "source": [
    "terror_df=df_1.copy()\n",
    "terror_df = terror_df.sample(frac=0.3)"
   ]
  },
  {
   "cell_type": "code",
   "execution_count": 201,
   "metadata": {},
   "outputs": [
    {
     "data": {
      "text/plain": [
       "(102434, 135)"
      ]
     },
     "execution_count": 201,
     "metadata": {},
     "output_type": "execute_result"
    }
   ],
   "source": [
    "terror_df.shape"
   ]
  },
  {
   "cell_type": "code",
   "execution_count": 202,
   "metadata": {},
   "outputs": [
    {
     "data": {
      "text/html": [
       "<div>\n",
       "<style>\n",
       "    .dataframe thead tr:only-child th {\n",
       "        text-align: right;\n",
       "    }\n",
       "\n",
       "    .dataframe thead th {\n",
       "        text-align: left;\n",
       "    }\n",
       "\n",
       "    .dataframe tbody tr th {\n",
       "        vertical-align: top;\n",
       "    }\n",
       "</style>\n",
       "<table border=\"1\" class=\"dataframe\">\n",
       "  <thead>\n",
       "    <tr style=\"text-align: right;\">\n",
       "      <th></th>\n",
       "      <th>eventid</th>\n",
       "      <th>iyear</th>\n",
       "      <th>imonth</th>\n",
       "      <th>iday</th>\n",
       "      <th>extended</th>\n",
       "      <th>country</th>\n",
       "      <th>region</th>\n",
       "      <th>latitude</th>\n",
       "      <th>longitude</th>\n",
       "      <th>specificity</th>\n",
       "      <th>...</th>\n",
       "      <th>ransomamt</th>\n",
       "      <th>ransomamtus</th>\n",
       "      <th>ransompaid</th>\n",
       "      <th>ransompaidus</th>\n",
       "      <th>hostkidoutcome</th>\n",
       "      <th>nreleased</th>\n",
       "      <th>INT_LOG</th>\n",
       "      <th>INT_IDEO</th>\n",
       "      <th>INT_MISC</th>\n",
       "      <th>INT_ANY</th>\n",
       "    </tr>\n",
       "  </thead>\n",
       "  <tbody>\n",
       "    <tr>\n",
       "      <th>count</th>\n",
       "      <td>1.024340e+05</td>\n",
       "      <td>102434.000000</td>\n",
       "      <td>102434.000000</td>\n",
       "      <td>102434.000000</td>\n",
       "      <td>102434.000000</td>\n",
       "      <td>102434.000000</td>\n",
       "      <td>102434.000000</td>\n",
       "      <td>99506.000000</td>\n",
       "      <td>99506.000000</td>\n",
       "      <td>102214.000000</td>\n",
       "      <td>...</td>\n",
       "      <td>7.580000e+02</td>\n",
       "      <td>2.860000e+02</td>\n",
       "      <td>4.170000e+02</td>\n",
       "      <td>282.000000</td>\n",
       "      <td>5952.000000</td>\n",
       "      <td>5584.000000</td>\n",
       "      <td>102434.000000</td>\n",
       "      <td>102434.000000</td>\n",
       "      <td>102434.000000</td>\n",
       "      <td>102434.000000</td>\n",
       "    </tr>\n",
       "    <tr>\n",
       "      <th>mean</th>\n",
       "      <td>2.001772e+11</td>\n",
       "      <td>2001.705615</td>\n",
       "      <td>6.465509</td>\n",
       "      <td>15.448181</td>\n",
       "      <td>0.043999</td>\n",
       "      <td>132.969864</td>\n",
       "      <td>7.102388</td>\n",
       "      <td>23.457538</td>\n",
       "      <td>26.444055</td>\n",
       "      <td>1.455143</td>\n",
       "      <td>...</td>\n",
       "      <td>2.426638e+06</td>\n",
       "      <td>7.360891e+05</td>\n",
       "      <td>4.522862e+05</td>\n",
       "      <td>503.843972</td>\n",
       "      <td>4.594590</td>\n",
       "      <td>-27.632880</td>\n",
       "      <td>-4.577289</td>\n",
       "      <td>-4.504149</td>\n",
       "      <td>0.090683</td>\n",
       "      <td>-3.958637</td>\n",
       "    </tr>\n",
       "    <tr>\n",
       "      <th>std</th>\n",
       "      <td>1.311948e+09</td>\n",
       "      <td>13.119248</td>\n",
       "      <td>3.393863</td>\n",
       "      <td>8.811435</td>\n",
       "      <td>0.205094</td>\n",
       "      <td>113.067924</td>\n",
       "      <td>2.945156</td>\n",
       "      <td>18.815638</td>\n",
       "      <td>58.413434</td>\n",
       "      <td>1.007296</td>\n",
       "      <td>...</td>\n",
       "      <td>1.361322e+07</td>\n",
       "      <td>7.976203e+06</td>\n",
       "      <td>2.757056e+06</td>\n",
       "      <td>4395.860301</td>\n",
       "      <td>2.045637</td>\n",
       "      <td>61.240875</td>\n",
       "      <td>4.543212</td>\n",
       "      <td>4.631814</td>\n",
       "      <td>0.600819</td>\n",
       "      <td>4.692613</td>\n",
       "    </tr>\n",
       "    <tr>\n",
       "      <th>min</th>\n",
       "      <td>1.970000e+11</td>\n",
       "      <td>1970.000000</td>\n",
       "      <td>0.000000</td>\n",
       "      <td>0.000000</td>\n",
       "      <td>0.000000</td>\n",
       "      <td>4.000000</td>\n",
       "      <td>1.000000</td>\n",
       "      <td>-53.154613</td>\n",
       "      <td>-157.739444</td>\n",
       "      <td>1.000000</td>\n",
       "      <td>...</td>\n",
       "      <td>-9.900000e+01</td>\n",
       "      <td>-9.900000e+01</td>\n",
       "      <td>-9.900000e+01</td>\n",
       "      <td>-99.000000</td>\n",
       "      <td>1.000000</td>\n",
       "      <td>-99.000000</td>\n",
       "      <td>-9.000000</td>\n",
       "      <td>-9.000000</td>\n",
       "      <td>-9.000000</td>\n",
       "      <td>-9.000000</td>\n",
       "    </tr>\n",
       "    <tr>\n",
       "      <th>25%</th>\n",
       "      <td>1.990062e+11</td>\n",
       "      <td>1990.000000</td>\n",
       "      <td>4.000000</td>\n",
       "      <td>8.000000</td>\n",
       "      <td>0.000000</td>\n",
       "      <td>75.000000</td>\n",
       "      <td>5.000000</td>\n",
       "      <td>11.388670</td>\n",
       "      <td>2.564616</td>\n",
       "      <td>1.000000</td>\n",
       "      <td>...</td>\n",
       "      <td>0.000000e+00</td>\n",
       "      <td>0.000000e+00</td>\n",
       "      <td>-9.900000e+01</td>\n",
       "      <td>0.000000</td>\n",
       "      <td>2.000000</td>\n",
       "      <td>-99.000000</td>\n",
       "      <td>-9.000000</td>\n",
       "      <td>-9.000000</td>\n",
       "      <td>0.000000</td>\n",
       "      <td>-9.000000</td>\n",
       "    </tr>\n",
       "    <tr>\n",
       "      <th>50%</th>\n",
       "      <td>2.007112e+11</td>\n",
       "      <td>2007.000000</td>\n",
       "      <td>6.000000</td>\n",
       "      <td>15.000000</td>\n",
       "      <td>0.000000</td>\n",
       "      <td>101.000000</td>\n",
       "      <td>6.000000</td>\n",
       "      <td>31.363647</td>\n",
       "      <td>43.130000</td>\n",
       "      <td>1.000000</td>\n",
       "      <td>...</td>\n",
       "      <td>7.720050e+03</td>\n",
       "      <td>0.000000e+00</td>\n",
       "      <td>0.000000e+00</td>\n",
       "      <td>0.000000</td>\n",
       "      <td>4.000000</td>\n",
       "      <td>0.000000</td>\n",
       "      <td>-9.000000</td>\n",
       "      <td>-9.000000</td>\n",
       "      <td>0.000000</td>\n",
       "      <td>0.000000</td>\n",
       "    </tr>\n",
       "    <tr>\n",
       "      <th>75%</th>\n",
       "      <td>2.014022e+11</td>\n",
       "      <td>2014.000000</td>\n",
       "      <td>9.000000</td>\n",
       "      <td>23.000000</td>\n",
       "      <td>0.000000</td>\n",
       "      <td>160.000000</td>\n",
       "      <td>10.000000</td>\n",
       "      <td>34.783237</td>\n",
       "      <td>68.450000</td>\n",
       "      <td>1.000000</td>\n",
       "      <td>...</td>\n",
       "      <td>4.000000e+05</td>\n",
       "      <td>0.000000e+00</td>\n",
       "      <td>7.400000e+03</td>\n",
       "      <td>0.000000</td>\n",
       "      <td>7.000000</td>\n",
       "      <td>1.000000</td>\n",
       "      <td>0.000000</td>\n",
       "      <td>0.000000</td>\n",
       "      <td>0.000000</td>\n",
       "      <td>0.000000</td>\n",
       "    </tr>\n",
       "    <tr>\n",
       "      <th>max</th>\n",
       "      <td>2.016123e+11</td>\n",
       "      <td>2016.000000</td>\n",
       "      <td>12.000000</td>\n",
       "      <td>31.000000</td>\n",
       "      <td>1.000000</td>\n",
       "      <td>1004.000000</td>\n",
       "      <td>12.000000</td>\n",
       "      <td>74.633553</td>\n",
       "      <td>178.441900</td>\n",
       "      <td>5.000000</td>\n",
       "      <td>...</td>\n",
       "      <td>2.000000e+08</td>\n",
       "      <td>1.320000e+08</td>\n",
       "      <td>4.100000e+07</td>\n",
       "      <td>48000.000000</td>\n",
       "      <td>7.000000</td>\n",
       "      <td>1201.000000</td>\n",
       "      <td>1.000000</td>\n",
       "      <td>1.000000</td>\n",
       "      <td>1.000000</td>\n",
       "      <td>1.000000</td>\n",
       "    </tr>\n",
       "  </tbody>\n",
       "</table>\n",
       "<p>8 rows × 77 columns</p>\n",
       "</div>"
      ],
      "text/plain": [
       "            eventid          iyear         imonth           iday  \\\n",
       "count  1.024340e+05  102434.000000  102434.000000  102434.000000   \n",
       "mean   2.001772e+11    2001.705615       6.465509      15.448181   \n",
       "std    1.311948e+09      13.119248       3.393863       8.811435   \n",
       "min    1.970000e+11    1970.000000       0.000000       0.000000   \n",
       "25%    1.990062e+11    1990.000000       4.000000       8.000000   \n",
       "50%    2.007112e+11    2007.000000       6.000000      15.000000   \n",
       "75%    2.014022e+11    2014.000000       9.000000      23.000000   \n",
       "max    2.016123e+11    2016.000000      12.000000      31.000000   \n",
       "\n",
       "            extended        country         region      latitude  \\\n",
       "count  102434.000000  102434.000000  102434.000000  99506.000000   \n",
       "mean        0.043999     132.969864       7.102388     23.457538   \n",
       "std         0.205094     113.067924       2.945156     18.815638   \n",
       "min         0.000000       4.000000       1.000000    -53.154613   \n",
       "25%         0.000000      75.000000       5.000000     11.388670   \n",
       "50%         0.000000     101.000000       6.000000     31.363647   \n",
       "75%         0.000000     160.000000      10.000000     34.783237   \n",
       "max         1.000000    1004.000000      12.000000     74.633553   \n",
       "\n",
       "          longitude    specificity      ...           ransomamt   ransomamtus  \\\n",
       "count  99506.000000  102214.000000      ...        7.580000e+02  2.860000e+02   \n",
       "mean      26.444055       1.455143      ...        2.426638e+06  7.360891e+05   \n",
       "std       58.413434       1.007296      ...        1.361322e+07  7.976203e+06   \n",
       "min     -157.739444       1.000000      ...       -9.900000e+01 -9.900000e+01   \n",
       "25%        2.564616       1.000000      ...        0.000000e+00  0.000000e+00   \n",
       "50%       43.130000       1.000000      ...        7.720050e+03  0.000000e+00   \n",
       "75%       68.450000       1.000000      ...        4.000000e+05  0.000000e+00   \n",
       "max      178.441900       5.000000      ...        2.000000e+08  1.320000e+08   \n",
       "\n",
       "         ransompaid  ransompaidus  hostkidoutcome    nreleased        INT_LOG  \\\n",
       "count  4.170000e+02    282.000000     5952.000000  5584.000000  102434.000000   \n",
       "mean   4.522862e+05    503.843972        4.594590   -27.632880      -4.577289   \n",
       "std    2.757056e+06   4395.860301        2.045637    61.240875       4.543212   \n",
       "min   -9.900000e+01    -99.000000        1.000000   -99.000000      -9.000000   \n",
       "25%   -9.900000e+01      0.000000        2.000000   -99.000000      -9.000000   \n",
       "50%    0.000000e+00      0.000000        4.000000     0.000000      -9.000000   \n",
       "75%    7.400000e+03      0.000000        7.000000     1.000000       0.000000   \n",
       "max    4.100000e+07  48000.000000        7.000000  1201.000000       1.000000   \n",
       "\n",
       "            INT_IDEO       INT_MISC        INT_ANY  \n",
       "count  102434.000000  102434.000000  102434.000000  \n",
       "mean       -4.504149       0.090683      -3.958637  \n",
       "std         4.631814       0.600819       4.692613  \n",
       "min        -9.000000      -9.000000      -9.000000  \n",
       "25%        -9.000000       0.000000      -9.000000  \n",
       "50%        -9.000000       0.000000       0.000000  \n",
       "75%         0.000000       0.000000       0.000000  \n",
       "max         1.000000       1.000000       1.000000  \n",
       "\n",
       "[8 rows x 77 columns]"
      ]
     },
     "execution_count": 202,
     "metadata": {},
     "output_type": "execute_result"
    }
   ],
   "source": [
    "terror_df.describe()\n"
   ]
  },
  {
   "cell_type": "code",
   "execution_count": 203,
   "metadata": {
    "collapsed": true
   },
   "outputs": [],
   "source": [
    "df = [\n",
    "    \n",
    "    ## Spatio-Temporal Variables:\n",
    "                 'iyear',\n",
    "    \n",
    "    ## Binary Variables: \n",
    "                'extended', 'vicinity', 'crit1', 'crit2', 'crit3', 'doubtterr',\n",
    "                'multiple', 'success', 'suicide', \n",
    "                'claimed', 'property', \n",
    "    \n",
    "    ## Continuous Variables:\n",
    "                'nkill', 'nwound',               \n",
    "    \n",
    "    ## Categorical variables (textual): \n",
    "                'country_txt', 'attacktype1_txt', 'targtype1_txt',\n",
    "                'weaptype1_txt', \n",
    "    \n",
    "    ## Descriptive Variables: \n",
    "                'gname',    \n",
    "    \n",
    "                                            ]\n",
    "\n",
    "terror_df = terror_df.loc[:, df]\n",
    "\n",
    "# To avoid confusion, we restrict the dataset to only attacks that were of terrorist nature.\n",
    "\n",
    "terror_df = terror_df[(terror_df.crit1 == 1) & (terror_df.crit2 == 1) & (terror_df.crit3 == 1) & (terror_df.doubtterr == 0)]\n"
   ]
  },
  {
   "cell_type": "code",
   "execution_count": 204,
   "metadata": {},
   "outputs": [],
   "source": [
    "frac = len(terror_df) * 0.8\n",
    "terror_df=terror_df.dropna(thresh=frac, axis=1)\n",
    "\n",
    "\n",
    "terror_df.weaptype1_txt.replace(\n",
    "    'Vehicle (not to include vehicle-borne explosives, i.e., car or truck bombs)',\n",
    "    'Vehicle', inplace = True)\n",
    "\n",
    "terror_df.replace(-9,0)\n",
    "\n",
    "terror_df.gname = terror_df.gname.str.lower()\n",
    "\n",
    "terror_df.nkill = np.round(terror_df.nkill.fillna(terror_df.nkill.median())).astype(int) \n",
    "terror_df.nwound = np.round(terror_df.nwound.fillna(terror_df.nwound.median())).astype(int) \n",
    "\n",
    "terror_df['ncasualties'] = terror_df['nkill'] + terror_df['nwound']\n",
    "terror_df['has_casualties'] = terror_df['ncasualties'].apply(lambda x: 0 if x == 0 else 1)\n",
    "terror_df= terror_df.drop(['nkill', 'nwound', 'ncasualties'], axis=1)"
   ]
  },
  {
   "cell_type": "code",
   "execution_count": 205,
   "metadata": {},
   "outputs": [
    {
     "name": "stdout",
     "output_type": "stream",
     "text": [
      "Missing values per column:\n",
      "iyear              0\n",
      "extended           0\n",
      "vicinity           0\n",
      "crit1              0\n",
      "crit2              0\n",
      "crit3              0\n",
      "doubtterr          0\n",
      "multiple           0\n",
      "success            0\n",
      "suicide            0\n",
      "property           0\n",
      "country_txt        0\n",
      "attacktype1_txt    0\n",
      "targtype1_txt      0\n",
      "weaptype1_txt      0\n",
      "gname              0\n",
      "has_casualties     0\n",
      "dtype: int64\n"
     ]
    }
   ],
   "source": [
    "#Create a new function:\n",
    "def num_missing(x):\n",
    "  return sum(x.isnull())\n",
    "\n",
    "#Applying per column:\n",
    "print (\"Missing values per column:\")\n",
    "print (terror_df.apply(num_missing, axis=0)) #axis=0 defines that function is to be applied on each column\n",
    "\n"
   ]
  },
  {
   "cell_type": "code",
   "execution_count": 206,
   "metadata": {
    "collapsed": true
   },
   "outputs": [],
   "source": [
    "import matplotlib.pyplot as plt\n",
    "import seaborn as sns\n",
    "%matplotlib inline"
   ]
  },
  {
   "cell_type": "code",
   "execution_count": 207,
   "metadata": {},
   "outputs": [
    {
     "data": {
      "image/png": "[encoded data removed]",
      "text/plain": [
       "<matplotlib.figure.Figure at 0x22d5735fe48>"
      ]
     },
     "metadata": {},
     "output_type": "display_data"
    }
   ],
   "source": [
    "# Group wise terrorist attacks (top 20)\n",
    "country_by_attacks = terror_df[['gname','iyear']].groupby('gname').count().sort_values('iyear',ascending=0).head(20)\n",
    "country_by_attacks.plot(kind='bar',legend=False)\n",
    "plt.xlabel('Group Names')\n",
    "plt.ylabel('Attacks')\n",
    "plt.show()"
   ]
  },
  {
   "cell_type": "code",
   "execution_count": 208,
   "metadata": {
    "collapsed": true
   },
   "outputs": [],
   "source": [
    "unknown_df= terror_df[terror_df['gname'] == \"unknown\"]"
   ]
  },
  {
   "cell_type": "code",
   "execution_count": 209,
   "metadata": {},
   "outputs": [
    {
     "data": {
      "text/html": [
       "<div>\n",
       "<style>\n",
       "    .dataframe thead tr:only-child th {\n",
       "        text-align: right;\n",
       "    }\n",
       "\n",
       "    .dataframe thead th {\n",
       "        text-align: left;\n",
       "    }\n",
       "\n",
       "    .dataframe tbody tr th {\n",
       "        vertical-align: top;\n",
       "    }\n",
       "</style>\n",
       "<table border=\"1\" class=\"dataframe\">\n",
       "  <thead>\n",
       "    <tr style=\"text-align: right;\">\n",
       "      <th></th>\n",
       "      <th>iyear</th>\n",
       "      <th>extended</th>\n",
       "      <th>vicinity</th>\n",
       "      <th>crit1</th>\n",
       "      <th>crit2</th>\n",
       "      <th>crit3</th>\n",
       "      <th>doubtterr</th>\n",
       "      <th>multiple</th>\n",
       "      <th>success</th>\n",
       "      <th>suicide</th>\n",
       "      <th>property</th>\n",
       "      <th>country_txt</th>\n",
       "      <th>attacktype1_txt</th>\n",
       "      <th>targtype1_txt</th>\n",
       "      <th>weaptype1_txt</th>\n",
       "      <th>gname</th>\n",
       "      <th>has_casualties</th>\n",
       "    </tr>\n",
       "  </thead>\n",
       "  <tbody>\n",
       "    <tr>\n",
       "      <th>267236</th>\n",
       "      <td>2010</td>\n",
       "      <td>0</td>\n",
       "      <td>0</td>\n",
       "      <td>1</td>\n",
       "      <td>1</td>\n",
       "      <td>1</td>\n",
       "      <td>0</td>\n",
       "      <td>0</td>\n",
       "      <td>1.0</td>\n",
       "      <td>0</td>\n",
       "      <td>-9</td>\n",
       "      <td>Iraq</td>\n",
       "      <td>Bombing/Explosion</td>\n",
       "      <td>Private Citizens &amp; Property</td>\n",
       "      <td>Explosives/Bombs/Dynamite</td>\n",
       "      <td>unknown</td>\n",
       "      <td>1</td>\n",
       "    </tr>\n",
       "    <tr>\n",
       "      <th>263344</th>\n",
       "      <td>2009</td>\n",
       "      <td>0</td>\n",
       "      <td>0</td>\n",
       "      <td>1</td>\n",
       "      <td>1</td>\n",
       "      <td>1</td>\n",
       "      <td>0</td>\n",
       "      <td>0</td>\n",
       "      <td>1.0</td>\n",
       "      <td>0</td>\n",
       "      <td>1</td>\n",
       "      <td>Iraq</td>\n",
       "      <td>Bombing/Explosion</td>\n",
       "      <td>Transportation</td>\n",
       "      <td>Explosives/Bombs/Dynamite</td>\n",
       "      <td>unknown</td>\n",
       "      <td>1</td>\n",
       "    </tr>\n",
       "    <tr>\n",
       "      <th>265215</th>\n",
       "      <td>2009</td>\n",
       "      <td>0</td>\n",
       "      <td>0</td>\n",
       "      <td>1</td>\n",
       "      <td>1</td>\n",
       "      <td>1</td>\n",
       "      <td>0</td>\n",
       "      <td>0</td>\n",
       "      <td>1.0</td>\n",
       "      <td>0</td>\n",
       "      <td>1</td>\n",
       "      <td>Iraq</td>\n",
       "      <td>Bombing/Explosion</td>\n",
       "      <td>Utilities</td>\n",
       "      <td>Explosives/Bombs/Dynamite</td>\n",
       "      <td>unknown</td>\n",
       "      <td>1</td>\n",
       "    </tr>\n",
       "    <tr>\n",
       "      <th>322407</th>\n",
       "      <td>2015</td>\n",
       "      <td>0</td>\n",
       "      <td>0</td>\n",
       "      <td>1</td>\n",
       "      <td>1</td>\n",
       "      <td>1</td>\n",
       "      <td>0</td>\n",
       "      <td>0</td>\n",
       "      <td>1.0</td>\n",
       "      <td>0</td>\n",
       "      <td>0</td>\n",
       "      <td>Afghanistan</td>\n",
       "      <td>Bombing/Explosion</td>\n",
       "      <td>Business</td>\n",
       "      <td>Explosives/Bombs/Dynamite</td>\n",
       "      <td>unknown</td>\n",
       "      <td>1</td>\n",
       "    </tr>\n",
       "    <tr>\n",
       "      <th>283781</th>\n",
       "      <td>2012</td>\n",
       "      <td>0</td>\n",
       "      <td>0</td>\n",
       "      <td>1</td>\n",
       "      <td>1</td>\n",
       "      <td>1</td>\n",
       "      <td>0</td>\n",
       "      <td>1</td>\n",
       "      <td>0.0</td>\n",
       "      <td>0</td>\n",
       "      <td>0</td>\n",
       "      <td>United Kingdom</td>\n",
       "      <td>Bombing/Explosion</td>\n",
       "      <td>Private Citizens &amp; Property</td>\n",
       "      <td>Explosives/Bombs/Dynamite</td>\n",
       "      <td>unknown</td>\n",
       "      <td>0</td>\n",
       "    </tr>\n",
       "    <tr>\n",
       "      <th>73699</th>\n",
       "      <td>2001</td>\n",
       "      <td>0</td>\n",
       "      <td>0</td>\n",
       "      <td>1</td>\n",
       "      <td>1</td>\n",
       "      <td>1</td>\n",
       "      <td>0</td>\n",
       "      <td>0</td>\n",
       "      <td>1.0</td>\n",
       "      <td>0</td>\n",
       "      <td>1</td>\n",
       "      <td>West Bank and Gaza Strip</td>\n",
       "      <td>Armed Assault</td>\n",
       "      <td>Private Citizens &amp; Property</td>\n",
       "      <td>Firearms</td>\n",
       "      <td>unknown</td>\n",
       "      <td>1</td>\n",
       "    </tr>\n",
       "    <tr>\n",
       "      <th>269479</th>\n",
       "      <td>2010</td>\n",
       "      <td>0</td>\n",
       "      <td>0</td>\n",
       "      <td>1</td>\n",
       "      <td>1</td>\n",
       "      <td>1</td>\n",
       "      <td>0</td>\n",
       "      <td>0</td>\n",
       "      <td>1.0</td>\n",
       "      <td>0</td>\n",
       "      <td>1</td>\n",
       "      <td>Iraq</td>\n",
       "      <td>Bombing/Explosion</td>\n",
       "      <td>Private Citizens &amp; Property</td>\n",
       "      <td>Explosives/Bombs/Dynamite</td>\n",
       "      <td>unknown</td>\n",
       "      <td>1</td>\n",
       "    </tr>\n",
       "    <tr>\n",
       "      <th>301988</th>\n",
       "      <td>2014</td>\n",
       "      <td>0</td>\n",
       "      <td>0</td>\n",
       "      <td>1</td>\n",
       "      <td>1</td>\n",
       "      <td>1</td>\n",
       "      <td>0</td>\n",
       "      <td>0</td>\n",
       "      <td>0.0</td>\n",
       "      <td>0</td>\n",
       "      <td>0</td>\n",
       "      <td>Pakistan</td>\n",
       "      <td>Bombing/Explosion</td>\n",
       "      <td>Government (General)</td>\n",
       "      <td>Explosives/Bombs/Dynamite</td>\n",
       "      <td>unknown</td>\n",
       "      <td>0</td>\n",
       "    </tr>\n",
       "    <tr>\n",
       "      <th>79425</th>\n",
       "      <td>2005</td>\n",
       "      <td>0</td>\n",
       "      <td>0</td>\n",
       "      <td>1</td>\n",
       "      <td>1</td>\n",
       "      <td>1</td>\n",
       "      <td>0</td>\n",
       "      <td>0</td>\n",
       "      <td>1.0</td>\n",
       "      <td>0</td>\n",
       "      <td>1</td>\n",
       "      <td>India</td>\n",
       "      <td>Bombing/Explosion</td>\n",
       "      <td>Private Citizens &amp; Property</td>\n",
       "      <td>Explosives/Bombs/Dynamite</td>\n",
       "      <td>unknown</td>\n",
       "      <td>0</td>\n",
       "    </tr>\n",
       "    <tr>\n",
       "      <th>248213</th>\n",
       "      <td>2004</td>\n",
       "      <td>0</td>\n",
       "      <td>0</td>\n",
       "      <td>1</td>\n",
       "      <td>1</td>\n",
       "      <td>1</td>\n",
       "      <td>0</td>\n",
       "      <td>1</td>\n",
       "      <td>1.0</td>\n",
       "      <td>1</td>\n",
       "      <td>1</td>\n",
       "      <td>Iraq</td>\n",
       "      <td>Bombing/Explosion</td>\n",
       "      <td>Business</td>\n",
       "      <td>Explosives/Bombs/Dynamite</td>\n",
       "      <td>unknown</td>\n",
       "      <td>1</td>\n",
       "    </tr>\n",
       "  </tbody>\n",
       "</table>\n",
       "</div>"
      ],
      "text/plain": [
       "        iyear  extended  vicinity  crit1  crit2  crit3  doubtterr  multiple  \\\n",
       "267236   2010         0         0      1      1      1          0         0   \n",
       "263344   2009         0         0      1      1      1          0         0   \n",
       "265215   2009         0         0      1      1      1          0         0   \n",
       "322407   2015         0         0      1      1      1          0         0   \n",
       "283781   2012         0         0      1      1      1          0         1   \n",
       "73699    2001         0         0      1      1      1          0         0   \n",
       "269479   2010         0         0      1      1      1          0         0   \n",
       "301988   2014         0         0      1      1      1          0         0   \n",
       "79425    2005         0         0      1      1      1          0         0   \n",
       "248213   2004         0         0      1      1      1          0         1   \n",
       "\n",
       "        success  suicide  property               country_txt  \\\n",
       "267236      1.0        0        -9                      Iraq   \n",
       "263344      1.0        0         1                      Iraq   \n",
       "265215      1.0        0         1                      Iraq   \n",
       "322407      1.0        0         0               Afghanistan   \n",
       "283781      0.0        0         0            United Kingdom   \n",
       "73699       1.0        0         1  West Bank and Gaza Strip   \n",
       "269479      1.0        0         1                      Iraq   \n",
       "301988      0.0        0         0                  Pakistan   \n",
       "79425       1.0        0         1                     India   \n",
       "248213      1.0        1         1                      Iraq   \n",
       "\n",
       "          attacktype1_txt                targtype1_txt  \\\n",
       "267236  Bombing/Explosion  Private Citizens & Property   \n",
       "263344  Bombing/Explosion               Transportation   \n",
       "265215  Bombing/Explosion                    Utilities   \n",
       "322407  Bombing/Explosion                     Business   \n",
       "283781  Bombing/Explosion  Private Citizens & Property   \n",
       "73699       Armed Assault  Private Citizens & Property   \n",
       "269479  Bombing/Explosion  Private Citizens & Property   \n",
       "301988  Bombing/Explosion         Government (General)   \n",
       "79425   Bombing/Explosion  Private Citizens & Property   \n",
       "248213  Bombing/Explosion                     Business   \n",
       "\n",
       "                    weaptype1_txt    gname  has_casualties  \n",
       "267236  Explosives/Bombs/Dynamite  unknown               1  \n",
       "263344  Explosives/Bombs/Dynamite  unknown               1  \n",
       "265215  Explosives/Bombs/Dynamite  unknown               1  \n",
       "322407  Explosives/Bombs/Dynamite  unknown               1  \n",
       "283781  Explosives/Bombs/Dynamite  unknown               0  \n",
       "73699                    Firearms  unknown               1  \n",
       "269479  Explosives/Bombs/Dynamite  unknown               1  \n",
       "301988  Explosives/Bombs/Dynamite  unknown               0  \n",
       "79425   Explosives/Bombs/Dynamite  unknown               0  \n",
       "248213  Explosives/Bombs/Dynamite  unknown               1  "
      ]
     },
     "execution_count": 209,
     "metadata": {},
     "output_type": "execute_result"
    }
   ],
   "source": [
    "unknown_df.head(10)"
   ]
  },
  {
   "cell_type": "code",
   "execution_count": 210,
   "metadata": {
    "collapsed": true
   },
   "outputs": [],
   "source": [
    "terror_df = terror_df[~terror_df.isin(unknown_df)]"
   ]
  },
  {
   "cell_type": "code",
   "execution_count": 211,
   "metadata": {},
   "outputs": [],
   "source": [
    "terror_df.shape\n",
    "terror_df=terror_df.drop([\"iyear\"], axis=1)\n",
    "terror_df= terror_df.dropna()"
   ]
  },
  {
   "cell_type": "code",
   "execution_count": 212,
   "metadata": {},
   "outputs": [
    {
     "data": {
      "text/plain": [
       "(34541, 17)"
      ]
     },
     "execution_count": 212,
     "metadata": {},
     "output_type": "execute_result"
    }
   ],
   "source": [
    "unknown_df.shape"
   ]
  },
  {
   "cell_type": "code",
   "execution_count": 213,
   "metadata": {
    "collapsed": true
   },
   "outputs": [],
   "source": [
    "Y = terror_df[\"gname\"]\n"
   ]
  },
  {
   "cell_type": "code",
   "execution_count": 214,
   "metadata": {},
   "outputs": [
    {
     "data": {
      "text/plain": [
       "(43492,)"
      ]
     },
     "execution_count": 214,
     "metadata": {},
     "output_type": "execute_result"
    }
   ],
   "source": [
    "Y.shape"
   ]
  },
  {
   "cell_type": "code",
   "execution_count": 215,
   "metadata": {},
   "outputs": [
    {
     "data": {
      "text/plain": [
       "extended           float64\n",
       "vicinity           float64\n",
       "crit1              float64\n",
       "crit2              float64\n",
       "crit3              float64\n",
       "doubtterr          float64\n",
       "multiple           float64\n",
       "success            float64\n",
       "suicide            float64\n",
       "property           float64\n",
       "country_txt         object\n",
       "attacktype1_txt     object\n",
       "targtype1_txt       object\n",
       "weaptype1_txt       object\n",
       "has_casualties     float64\n",
       "dtype: object"
      ]
     },
     "execution_count": 215,
     "metadata": {},
     "output_type": "execute_result"
    }
   ],
   "source": [
    "X = terror_df.drop([\"gname\"], axis=1)\n",
    "X.dtypes"
   ]
  },
  {
   "cell_type": "code",
   "execution_count": 216,
   "metadata": {
    "collapsed": true
   },
   "outputs": [],
   "source": [
    "X[\"country_txt\"] = pd.get_dummies(X[\"country_txt\"])\n",
    "X[\"attacktype1_txt\"] = pd.get_dummies(X[\"attacktype1_txt\"])\n",
    "X[\"targtype1_txt\"] = pd.get_dummies(X[\"targtype1_txt\"])\n",
    "X[\"weaptype1_txt\"] = pd.get_dummies(X[\"weaptype1_txt\"])\n"
   ]
  },
  {
   "cell_type": "code",
   "execution_count": 217,
   "metadata": {},
   "outputs": [],
   "source": [
    "Y_count= Y.value_counts()\n"
   ]
  },
  {
   "cell_type": "code",
   "execution_count": 218,
   "metadata": {},
   "outputs": [],
   "source": [
    "Y_bins=pd.qcut(Y_count, [0, .5, .75, 1], labels=[\"Small Org\", \"Medium Org\" ,\"Dangerous Groups\"])\n"
   ]
  },
  {
   "cell_type": "code",
   "execution_count": 219,
   "metadata": {},
   "outputs": [
    {
     "data": {
      "text/plain": [
       "(2169,)"
      ]
     },
     "execution_count": 219,
     "metadata": {},
     "output_type": "execute_result"
    }
   ],
   "source": [
    "Y_bins.shape"
   ]
  },
  {
   "cell_type": "code",
   "execution_count": 220,
   "metadata": {
    "collapsed": true
   },
   "outputs": [],
   "source": [
    "Y_bins= Y_bins.to_dict()"
   ]
  },
  {
   "cell_type": "code",
   "execution_count": 221,
   "metadata": {
    "collapsed": true
   },
   "outputs": [],
   "source": [
    "Y=Y.reset_index()\n",
    "Y=Y.drop([\"index\"], axis=1)\n"
   ]
  },
  {
   "cell_type": "code",
   "execution_count": 222,
   "metadata": {},
   "outputs": [
    {
     "data": {
      "text/html": [
       "<div>\n",
       "<style>\n",
       "    .dataframe thead tr:only-child th {\n",
       "        text-align: right;\n",
       "    }\n",
       "\n",
       "    .dataframe thead th {\n",
       "        text-align: left;\n",
       "    }\n",
       "\n",
       "    .dataframe tbody tr th {\n",
       "        vertical-align: top;\n",
       "    }\n",
       "</style>\n",
       "<table border=\"1\" class=\"dataframe\">\n",
       "  <thead>\n",
       "    <tr style=\"text-align: right;\">\n",
       "      <th></th>\n",
       "      <th>gname</th>\n",
       "    </tr>\n",
       "  </thead>\n",
       "  <tbody>\n",
       "    <tr>\n",
       "      <th>0</th>\n",
       "      <td>free syrian army</td>\n",
       "    </tr>\n",
       "    <tr>\n",
       "      <th>1</th>\n",
       "      <td>national liberation army of colombia (eln)</td>\n",
       "    </tr>\n",
       "    <tr>\n",
       "      <th>2</th>\n",
       "      <td>new people's army (npa)</td>\n",
       "    </tr>\n",
       "    <tr>\n",
       "      <th>3</th>\n",
       "      <td>corsican national liberation front (flnc)</td>\n",
       "    </tr>\n",
       "    <tr>\n",
       "      <th>4</th>\n",
       "      <td>gunmen</td>\n",
       "    </tr>\n",
       "    <tr>\n",
       "      <th>5</th>\n",
       "      <td>irish republican army (ira)</td>\n",
       "    </tr>\n",
       "    <tr>\n",
       "      <th>6</th>\n",
       "      <td>jemaah islamiya (ji)</td>\n",
       "    </tr>\n",
       "    <tr>\n",
       "      <th>7</th>\n",
       "      <td>revolutionary armed forces of colombia (farc)</td>\n",
       "    </tr>\n",
       "    <tr>\n",
       "      <th>8</th>\n",
       "      <td>boko haram</td>\n",
       "    </tr>\n",
       "    <tr>\n",
       "      <th>9</th>\n",
       "      <td>communist party of nepal-maoist (baidya)</td>\n",
       "    </tr>\n",
       "    <tr>\n",
       "      <th>10</th>\n",
       "      <td>black panthers</td>\n",
       "    </tr>\n",
       "    <tr>\n",
       "      <th>11</th>\n",
       "      <td>maoists</td>\n",
       "    </tr>\n",
       "    <tr>\n",
       "      <th>12</th>\n",
       "      <td>armed islamic group (gia)</td>\n",
       "    </tr>\n",
       "    <tr>\n",
       "      <th>13</th>\n",
       "      <td>revolutionary armed forces of colombia (farc)</td>\n",
       "    </tr>\n",
       "    <tr>\n",
       "      <th>14</th>\n",
       "      <td>manipur naga people's army (mnpa)</td>\n",
       "    </tr>\n",
       "    <tr>\n",
       "      <th>15</th>\n",
       "      <td>palestinians</td>\n",
       "    </tr>\n",
       "    <tr>\n",
       "      <th>16</th>\n",
       "      <td>hutu extremists</td>\n",
       "    </tr>\n",
       "    <tr>\n",
       "      <th>17</th>\n",
       "      <td>allied democratic forces (adf)</td>\n",
       "    </tr>\n",
       "    <tr>\n",
       "      <th>18</th>\n",
       "      <td>revolutionary armed forces of colombia (farc)</td>\n",
       "    </tr>\n",
       "    <tr>\n",
       "      <th>19</th>\n",
       "      <td>farabundo marti national liberation front (fmln)</td>\n",
       "    </tr>\n",
       "    <tr>\n",
       "      <th>20</th>\n",
       "      <td>farabundo marti national liberation front (fmln)</td>\n",
       "    </tr>\n",
       "    <tr>\n",
       "      <th>21</th>\n",
       "      <td>september 11</td>\n",
       "    </tr>\n",
       "    <tr>\n",
       "      <th>22</th>\n",
       "      <td>boko haram</td>\n",
       "    </tr>\n",
       "    <tr>\n",
       "      <th>23</th>\n",
       "      <td>al-qaida in the arabian peninsula (aqap)</td>\n",
       "    </tr>\n",
       "    <tr>\n",
       "      <th>24</th>\n",
       "      <td>islamic state of iraq and the levant (isil)</td>\n",
       "    </tr>\n",
       "    <tr>\n",
       "      <th>25</th>\n",
       "      <td>runda kumpulan kecil (rkk)</td>\n",
       "    </tr>\n",
       "    <tr>\n",
       "      <th>26</th>\n",
       "      <td>sikh extremists</td>\n",
       "    </tr>\n",
       "    <tr>\n",
       "      <th>27</th>\n",
       "      <td>anti-government guerrillas</td>\n",
       "    </tr>\n",
       "    <tr>\n",
       "      <th>28</th>\n",
       "      <td>the joint revolutionary council</td>\n",
       "    </tr>\n",
       "    <tr>\n",
       "      <th>29</th>\n",
       "      <td>new people's army (npa)</td>\n",
       "    </tr>\n",
       "    <tr>\n",
       "      <th>...</th>\n",
       "      <td>...</td>\n",
       "    </tr>\n",
       "    <tr>\n",
       "      <th>970</th>\n",
       "      <td>tupac amaru revolutionary movement (mrta)</td>\n",
       "    </tr>\n",
       "    <tr>\n",
       "      <th>971</th>\n",
       "      <td>separatists</td>\n",
       "    </tr>\n",
       "    <tr>\n",
       "      <th>972</th>\n",
       "      <td>maoists</td>\n",
       "    </tr>\n",
       "    <tr>\n",
       "      <th>973</th>\n",
       "      <td>kurdistan workers' party (pkk)</td>\n",
       "    </tr>\n",
       "    <tr>\n",
       "      <th>974</th>\n",
       "      <td>al-shabaab</td>\n",
       "    </tr>\n",
       "    <tr>\n",
       "      <th>975</th>\n",
       "      <td>mizo national front</td>\n",
       "    </tr>\n",
       "    <tr>\n",
       "      <th>976</th>\n",
       "      <td>new people's army (npa)</td>\n",
       "    </tr>\n",
       "    <tr>\n",
       "      <th>977</th>\n",
       "      <td>farabundo marti national liberation front (fmln)</td>\n",
       "    </tr>\n",
       "    <tr>\n",
       "      <th>978</th>\n",
       "      <td>national liberation army (nla) (macedonia)</td>\n",
       "    </tr>\n",
       "    <tr>\n",
       "      <th>979</th>\n",
       "      <td>indian mujahideen</td>\n",
       "    </tr>\n",
       "    <tr>\n",
       "      <th>980</th>\n",
       "      <td>baloch republican army (bra)</td>\n",
       "    </tr>\n",
       "    <tr>\n",
       "      <th>981</th>\n",
       "      <td>gunmen</td>\n",
       "    </tr>\n",
       "    <tr>\n",
       "      <th>982</th>\n",
       "      <td>hamas (islamic resistance movement)</td>\n",
       "    </tr>\n",
       "    <tr>\n",
       "      <th>983</th>\n",
       "      <td>hindu illaignar sena</td>\n",
       "    </tr>\n",
       "    <tr>\n",
       "      <th>984</th>\n",
       "      <td>red flag (venezuela)</td>\n",
       "    </tr>\n",
       "    <tr>\n",
       "      <th>985</th>\n",
       "      <td>islamic state of iraq and the levant (isil)</td>\n",
       "    </tr>\n",
       "    <tr>\n",
       "      <th>986</th>\n",
       "      <td>separatists</td>\n",
       "    </tr>\n",
       "    <tr>\n",
       "      <th>987</th>\n",
       "      <td>new people's army (npa)</td>\n",
       "    </tr>\n",
       "    <tr>\n",
       "      <th>988</th>\n",
       "      <td>left-wing guerrillas</td>\n",
       "    </tr>\n",
       "    <tr>\n",
       "      <th>989</th>\n",
       "      <td>people's revolutionary army (erp) (el salvador)</td>\n",
       "    </tr>\n",
       "    <tr>\n",
       "      <th>990</th>\n",
       "      <td>separatists</td>\n",
       "    </tr>\n",
       "    <tr>\n",
       "      <th>991</th>\n",
       "      <td>palestinians</td>\n",
       "    </tr>\n",
       "    <tr>\n",
       "      <th>992</th>\n",
       "      <td>abu sayyaf group (asg)</td>\n",
       "    </tr>\n",
       "    <tr>\n",
       "      <th>993</th>\n",
       "      <td>croatian nationalists</td>\n",
       "    </tr>\n",
       "    <tr>\n",
       "      <th>994</th>\n",
       "      <td>waltraud boock group</td>\n",
       "    </tr>\n",
       "    <tr>\n",
       "      <th>995</th>\n",
       "      <td>national liberation army of colombia (eln)</td>\n",
       "    </tr>\n",
       "    <tr>\n",
       "      <th>996</th>\n",
       "      <td>arab revolutionary cells</td>\n",
       "    </tr>\n",
       "    <tr>\n",
       "      <th>997</th>\n",
       "      <td>basque fatherland and freedom (eta)</td>\n",
       "    </tr>\n",
       "    <tr>\n",
       "      <th>998</th>\n",
       "      <td>the extraditables</td>\n",
       "    </tr>\n",
       "    <tr>\n",
       "      <th>999</th>\n",
       "      <td>narco-terrorists</td>\n",
       "    </tr>\n",
       "  </tbody>\n",
       "</table>\n",
       "<p>1000 rows × 1 columns</p>\n",
       "</div>"
      ],
      "text/plain": [
       "                                                gname\n",
       "0                                    free syrian army\n",
       "1          national liberation army of colombia (eln)\n",
       "2                             new people's army (npa)\n",
       "3           corsican national liberation front (flnc)\n",
       "4                                              gunmen\n",
       "5                         irish republican army (ira)\n",
       "6                                jemaah islamiya (ji)\n",
       "7       revolutionary armed forces of colombia (farc)\n",
       "8                                          boko haram\n",
       "9            communist party of nepal-maoist (baidya)\n",
       "10                                     black panthers\n",
       "11                                            maoists\n",
       "12                          armed islamic group (gia)\n",
       "13      revolutionary armed forces of colombia (farc)\n",
       "14                  manipur naga people's army (mnpa)\n",
       "15                                       palestinians\n",
       "16                                    hutu extremists\n",
       "17                     allied democratic forces (adf)\n",
       "18      revolutionary armed forces of colombia (farc)\n",
       "19   farabundo marti national liberation front (fmln)\n",
       "20   farabundo marti national liberation front (fmln)\n",
       "21                                       september 11\n",
       "22                                         boko haram\n",
       "23           al-qaida in the arabian peninsula (aqap)\n",
       "24        islamic state of iraq and the levant (isil)\n",
       "25                         runda kumpulan kecil (rkk)\n",
       "26                                    sikh extremists\n",
       "27                         anti-government guerrillas\n",
       "28                    the joint revolutionary council\n",
       "29                            new people's army (npa)\n",
       "..                                                ...\n",
       "970         tupac amaru revolutionary movement (mrta)\n",
       "971                                       separatists\n",
       "972                                           maoists\n",
       "973                    kurdistan workers' party (pkk)\n",
       "974                                        al-shabaab\n",
       "975                               mizo national front\n",
       "976                           new people's army (npa)\n",
       "977  farabundo marti national liberation front (fmln)\n",
       "978        national liberation army (nla) (macedonia)\n",
       "979                                 indian mujahideen\n",
       "980                      baloch republican army (bra)\n",
       "981                                            gunmen\n",
       "982               hamas (islamic resistance movement)\n",
       "983                              hindu illaignar sena\n",
       "984                              red flag (venezuela)\n",
       "985       islamic state of iraq and the levant (isil)\n",
       "986                                       separatists\n",
       "987                           new people's army (npa)\n",
       "988                              left-wing guerrillas\n",
       "989   people's revolutionary army (erp) (el salvador)\n",
       "990                                       separatists\n",
       "991                                      palestinians\n",
       "992                            abu sayyaf group (asg)\n",
       "993                             croatian nationalists\n",
       "994                              waltraud boock group\n",
       "995        national liberation army of colombia (eln)\n",
       "996                          arab revolutionary cells\n",
       "997               basque fatherland and freedom (eta)\n",
       "998                                 the extraditables\n",
       "999                                  narco-terrorists\n",
       "\n",
       "[1000 rows x 1 columns]"
      ]
     },
     "execution_count": 222,
     "metadata": {},
     "output_type": "execute_result"
    }
   ],
   "source": [
    "Y.head(1000)\n"
   ]
  },
  {
   "cell_type": "code",
   "execution_count": 223,
   "metadata": {
    "collapsed": true
   },
   "outputs": [],
   "source": [
    "Label = []\n",
    "\n",
    "for x in Y[\"gname\"]:\n",
    "    for key, value in Y_bins.items():\n",
    "           if x==key:\n",
    "            Label.append(value)\n",
    "\n",
    "Y[\"Label\"]= pd.Series(Label)            "
   ]
  },
  {
   "cell_type": "code",
   "execution_count": 224,
   "metadata": {},
   "outputs": [
    {
     "data": {
      "text/html": [
       "<div>\n",
       "<style>\n",
       "    .dataframe thead tr:only-child th {\n",
       "        text-align: right;\n",
       "    }\n",
       "\n",
       "    .dataframe thead th {\n",
       "        text-align: left;\n",
       "    }\n",
       "\n",
       "    .dataframe tbody tr th {\n",
       "        vertical-align: top;\n",
       "    }\n",
       "</style>\n",
       "<table border=\"1\" class=\"dataframe\">\n",
       "  <thead>\n",
       "    <tr style=\"text-align: right;\">\n",
       "      <th></th>\n",
       "      <th>gname</th>\n",
       "      <th>Label</th>\n",
       "    </tr>\n",
       "  </thead>\n",
       "  <tbody>\n",
       "    <tr>\n",
       "      <th>0</th>\n",
       "      <td>free syrian army</td>\n",
       "      <td>Dangerous Groups</td>\n",
       "    </tr>\n",
       "    <tr>\n",
       "      <th>1</th>\n",
       "      <td>national liberation army of colombia (eln)</td>\n",
       "      <td>Dangerous Groups</td>\n",
       "    </tr>\n",
       "    <tr>\n",
       "      <th>2</th>\n",
       "      <td>new people's army (npa)</td>\n",
       "      <td>Dangerous Groups</td>\n",
       "    </tr>\n",
       "    <tr>\n",
       "      <th>3</th>\n",
       "      <td>corsican national liberation front (flnc)</td>\n",
       "      <td>Dangerous Groups</td>\n",
       "    </tr>\n",
       "    <tr>\n",
       "      <th>4</th>\n",
       "      <td>gunmen</td>\n",
       "      <td>Dangerous Groups</td>\n",
       "    </tr>\n",
       "    <tr>\n",
       "      <th>5</th>\n",
       "      <td>irish republican army (ira)</td>\n",
       "      <td>Dangerous Groups</td>\n",
       "    </tr>\n",
       "    <tr>\n",
       "      <th>6</th>\n",
       "      <td>jemaah islamiya (ji)</td>\n",
       "      <td>Dangerous Groups</td>\n",
       "    </tr>\n",
       "    <tr>\n",
       "      <th>7</th>\n",
       "      <td>revolutionary armed forces of colombia (farc)</td>\n",
       "      <td>Dangerous Groups</td>\n",
       "    </tr>\n",
       "    <tr>\n",
       "      <th>8</th>\n",
       "      <td>boko haram</td>\n",
       "      <td>Dangerous Groups</td>\n",
       "    </tr>\n",
       "    <tr>\n",
       "      <th>9</th>\n",
       "      <td>communist party of nepal-maoist (baidya)</td>\n",
       "      <td>Dangerous Groups</td>\n",
       "    </tr>\n",
       "  </tbody>\n",
       "</table>\n",
       "</div>"
      ],
      "text/plain": [
       "                                           gname             Label\n",
       "0                               free syrian army  Dangerous Groups\n",
       "1     national liberation army of colombia (eln)  Dangerous Groups\n",
       "2                        new people's army (npa)  Dangerous Groups\n",
       "3      corsican national liberation front (flnc)  Dangerous Groups\n",
       "4                                         gunmen  Dangerous Groups\n",
       "5                    irish republican army (ira)  Dangerous Groups\n",
       "6                           jemaah islamiya (ji)  Dangerous Groups\n",
       "7  revolutionary armed forces of colombia (farc)  Dangerous Groups\n",
       "8                                     boko haram  Dangerous Groups\n",
       "9       communist party of nepal-maoist (baidya)  Dangerous Groups"
      ]
     },
     "execution_count": 224,
     "metadata": {},
     "output_type": "execute_result"
    }
   ],
   "source": [
    "Y.head(10)"
   ]
  },
  {
   "cell_type": "code",
   "execution_count": 225,
   "metadata": {},
   "outputs": [],
   "source": [
    "Y= Y.drop([\"gname\"],axis=1)\n"
   ]
  },
  {
   "cell_type": "code",
   "execution_count": 226,
   "metadata": {
    "collapsed": true
   },
   "outputs": [],
   "source": [
    "Y = pd.get_dummies(Y)"
   ]
  },
  {
   "cell_type": "code",
   "execution_count": 227,
   "metadata": {
    "collapsed": true
   },
   "outputs": [],
   "source": [
    "from sklearn.ensemble import ExtraTreesClassifier\n",
    "\n",
    "from sklearn.model_selection import train_test_split\n",
    "\n",
    "\n",
    "# Split the data into 25% test and 75% training\n",
    "X_train, X_test, Y_train, Y_test = train_test_split(X, Y, test_size=0.25, random_state=0)"
   ]
  },
  {
   "cell_type": "code",
   "execution_count": 229,
   "metadata": {},
   "outputs": [
    {
     "data": {
      "text/plain": [
       "(43492, 15)"
      ]
     },
     "execution_count": 229,
     "metadata": {},
     "output_type": "execute_result"
    }
   ],
   "source": [
    "X.shape"
   ]
  },
  {
   "cell_type": "code",
   "execution_count": 230,
   "metadata": {},
   "outputs": [
    {
     "data": {
      "text/plain": [
       "(43492, 3)"
      ]
     },
     "execution_count": 230,
     "metadata": {},
     "output_type": "execute_result"
    }
   ],
   "source": [
    "Y.shape"
   ]
  },
  {
   "cell_type": "code",
   "execution_count": 231,
   "metadata": {},
   "outputs": [
    {
     "name": "stdout",
     "output_type": "stream",
     "text": [
      "('extended', 0.04539133145765973)\n",
      "('vicinity', 0.081713832182847584)\n",
      "('crit1', 0.0)\n",
      "('crit2', 0.0)\n",
      "('crit3', 0.0)\n",
      "('doubtterr', 0.0)\n",
      "('multiple', 0.2322102912835044)\n",
      "('success', 0.046342903711575907)\n",
      "('suicide', 0.026284066850408228)\n",
      "('claimed', 0.11924272574375631)\n",
      "('property', 0.16553027360118214)\n",
      "('nkill', 0.050220715868618815)\n",
      "('nwound', 0.019697635214084665)\n",
      "('country_txt', 0.044076556100321497)\n",
      "('attacktype1_txt', 0.16928966798604078)\n"
     ]
    }
   ],
   "source": [
    "classifier = ExtraTreesClassifier()\n",
    "\n",
    "\n",
    "feature_labels = [\n",
    "    \n",
    "    ## Spatio-Temporal Variables:\n",
    "                 \n",
    "    \n",
    "\n",
    "                'extended', 'vicinity', 'crit1', 'crit2', 'crit3', 'doubtterr',\n",
    "                'multiple', 'success', 'suicide', \n",
    "                'claimed', 'property', \n",
    "   \n",
    "                'nkill', 'nwound',               \n",
    "    \n",
    " \n",
    "                'country_txt', 'attacktype1_txt', 'targtype1_txt',\n",
    "                'weaptype1_txt']\n",
    "\n",
    "# Train the classifier\n",
    "classifier.fit(X, Y)\n",
    "for feature in zip(feature_labels, classifier.feature_importances_):\n",
    "    print(feature)"
   ]
  },
  {
   "cell_type": "code",
   "execution_count": 232,
   "metadata": {},
   "outputs": [
    {
     "data": {
      "image/png": "[encoded data removed]",
      "text/plain": [
       "<matplotlib.figure.Figure at 0x22d566c0518>"
      ]
     },
     "metadata": {},
     "output_type": "display_data"
    }
   ],
   "source": [
    "plt.style.use('fivethirtyeight')\n",
    "# list of x locations for plotting\n",
    "x_values = list(range(len(classifier.feature_importances_)))\n",
    "# Make a bar chart\n",
    "plt.bar(x_values, classifier.feature_importances_ , orientation = 'vertical')\n",
    "# Tick labels for x axis\n",
    "plt.xticks(x_values, feature_labels, rotation='vertical')\n",
    "# Axis labels and title\n",
    "plt.ylabel('Importance'); plt.xlabel('Variable'); plt.title('Variable Importances');"
   ]
  },
  {
   "cell_type": "code",
   "execution_count": 233,
   "metadata": {},
   "outputs": [],
   "source": [
    "#LSTM\n",
    "X_train.drop([\"crit1\", \"crit2\", \"crit3\", \"doubtterr\"], axis=1)\n",
    "\n",
    "from sklearn.decomposition import PCA\n",
    "pca = PCA(n_components=2)\n",
    "pca.fit(X_train)\n",
    "X_train= pca.transform(X_train)\n",
    "\n"
   ]
  },
  {
   "cell_type": "code",
   "execution_count": 234,
   "metadata": {},
   "outputs": [],
   "source": [
    "A_train= []\n",
    "B_train= []\n",
    "\n",
    "for i in range(3897, 32583):\n",
    "    A_train.append(X_train[i-3897:i,0:2])\n",
    "    B_train.append(Y_train.iloc[i,0:3])\n",
    "    \n"
   ]
  },
  {
   "cell_type": "code",
   "execution_count": 235,
   "metadata": {},
   "outputs": [],
   "source": [
    "from numpy import array\n",
    "A_train = array( A_train )\n",
    "B_train = array( B_train )"
   ]
  },
  {
   "cell_type": "code",
   "execution_count": 237,
   "metadata": {},
   "outputs": [],
   "source": [
    "A_train= np.reshape(A_train, (A_train.shape[0], A_train.shape[1], 2))"
   ]
  },
  {
   "cell_type": "code",
   "execution_count": 238,
   "metadata": {},
   "outputs": [],
   "source": [
    "from keras.models import Sequential\n",
    "from keras.layers import Dense\n",
    "from keras.layers import LSTM\n",
    "from keras.layers import Dropout"
   ]
  },
  {
   "cell_type": "code",
   "execution_count": 239,
   "metadata": {
    "collapsed": true
   },
   "outputs": [],
   "source": [
    "classifier= Sequential()"
   ]
  },
  {
   "cell_type": "code",
   "execution_count": 240,
   "metadata": {
    "collapsed": true
   },
   "outputs": [],
   "source": [
    "classifier.add(LSTM(units=50, return_sequences= True, input_shape= ( A_train.shape[1], 2)))"
   ]
  },
  {
   "cell_type": "code",
   "execution_count": 241,
   "metadata": {
    "collapsed": true
   },
   "outputs": [],
   "source": [
    "classifier.add(Dropout(0.2))"
   ]
  },
  {
   "cell_type": "code",
   "execution_count": 242,
   "metadata": {
    "collapsed": true
   },
   "outputs": [],
   "source": [
    "classifier.add(LSTM(units=50, return_sequences= True))"
   ]
  },
  {
   "cell_type": "code",
   "execution_count": 243,
   "metadata": {
    "collapsed": true
   },
   "outputs": [],
   "source": [
    "classifier.add(Dropout(0.2))"
   ]
  },
  {
   "cell_type": "code",
   "execution_count": 244,
   "metadata": {
    "collapsed": true
   },
   "outputs": [],
   "source": [
    "classifier.add(LSTM(units=50))"
   ]
  },
  {
   "cell_type": "code",
   "execution_count": 245,
   "metadata": {
    "collapsed": true
   },
   "outputs": [],
   "source": [
    "classifier.add(Dropout(0.2))"
   ]
  },
  {
   "cell_type": "code",
   "execution_count": 246,
   "metadata": {
    "collapsed": true
   },
   "outputs": [],
   "source": [
    "classifier.add(Dense(units=3))"
   ]
  },
  {
   "cell_type": "code",
   "execution_count": 247,
   "metadata": {
    "collapsed": true
   },
   "outputs": [],
   "source": [
    "classifier.compile(optimizer= \"RMSprop\", loss= \"binary_crossentropy\", metrics= [\"accuracy\"])"
   ]
  },
  {
   "cell_type": "code",
   "execution_count": null,
   "metadata": {},
   "outputs": [],
   "source": [
    "classifier.fit(A_train, B_train, epochs=10, batch_size= 32)"
   ]
  },
  {
   "cell_type": "code",
   "execution_count": null,
   "metadata": {
    "collapsed": true
   },
   "outputs": [],
   "source": []
  }
 ],
 "metadata": {
  "kernelspec": {
   "display_name": "Python 3",
   "language": "python",
   "name": "python3"
  },
  "language_info": {
   "codemirror_mode": {
    "name": "ipython",
    "version": 3
   },
   "file_extension": ".py",
   "mimetype": "text/x-python",
   "name": "python",
   "nbconvert_exporter": "python",
   "pygments_lexer": "ipython3",
   "version": "3.6.3"
  }
 },
 "nbformat": 4,
 "nbformat_minor": 2
}
