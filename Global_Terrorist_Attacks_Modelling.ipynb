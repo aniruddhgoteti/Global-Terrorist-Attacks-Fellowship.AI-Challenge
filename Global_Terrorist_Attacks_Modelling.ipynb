{
 "cells": [
  {
   "cell_type": "markdown",
   "metadata": {},
   "source": [
    "# 1. Introducing the Challenge and Data\n",
    "\n",
    "This notebook aims to deal with the challenge as a part of application process of Fellowship.AI. The challenge deals with the Global terrorism Database (GTD) as the input data. The challenge statement given is as follows \"Use attack type, weapons used, description of the attack, etc. to build a model that can predict what group may have been responsible for an incident.\"\n",
    "\n",
    "Diving deep into the challenge!\n",
    "\n",
    "The plan of action in this section as are follows:"
   ]
  },
  {
   "cell_type": "markdown",
   "metadata": {},
   "source": [
    "#### A. Uploading the data to the jupyter notebook. \n",
    "\n",
    "There are total of 5 excel sheets provided by GTD. These 5 sheets have been parsed to been parsed to be suitable for pandas dataframe and then been appended into one single dataframe. The dataframe is known as terror_df in the following notebook.\n",
    "\n"
   ]
  },
  {
   "cell_type": "code",
   "execution_count": 16,
   "metadata": {
    "collapsed": true
   },
   "outputs": [],
   "source": [
    "#Importing libraries\n",
    "\n",
    "import os\n",
    "import pandas as pd \n",
    "import numpy as np"
   ]
  },
  {
   "cell_type": "code",
   "execution_count": 17,
   "metadata": {
    "collapsed": true
   },
   "outputs": [],
   "source": [
    "#Uploading the 5 excel sheets consisting the GTD data\n",
    "\n",
    "xl_1=pd.ExcelFile(r\"C:\\Users\\aniru\\OneDrive\\Desktop\\Fellowship.AI\\data1.xlsx\") #Uploading Excel sheet1\n",
    "xl_2=pd.ExcelFile(r\"C:\\Users\\aniru\\OneDrive\\Desktop\\Fellowship.AI\\data2.xlsx\") #Uploading Excel sheet2\n",
    "xl_3=pd.ExcelFile(r\"C:\\Users\\aniru\\OneDrive\\Desktop\\Fellowship.AI\\data3.xlsx\") #Uploading Excel sheet3\n",
    "xl_4=pd.ExcelFile(r\"C:\\Users\\aniru\\OneDrive\\Desktop\\Fellowship.AI\\data4.xlsx\") #Uploading Excel sheet4\n",
    "xl_5=pd.ExcelFile(r\"C:\\Users\\aniru\\OneDrive\\Desktop\\Fellowship.AI\\data5.xlsx\") #Uploading Excel sheet5"
   ]
  },
  {
   "cell_type": "code",
   "execution_count": 18,
   "metadata": {
    "collapsed": true
   },
   "outputs": [],
   "source": [
    "#Parsing the excel sheets to be suitable for pandas dataframe. \n",
    "#The sheets are named as \"Data\" in all the five GTD excel files.\n",
    "\n",
    "df_1= xl_1.parse(\"Data\") #Excel sheet1 parsed into dataframe1 (df_1)\n",
    "df_2= xl_2.parse(\"Data\") #Excel sheet2 parsed into dataframe2 (df_2)\n",
    "df_3= xl_3.parse(\"Data\") #Excel sheet3 parsed into dataframe3 (df_3)\n",
    "df_4= xl_4.parse(\"Data\") #Excel sheet4 parsed into dataframe4 (df_4)\n",
    "df_5= xl_5.parse(\"Data\") #Excel sheet5 parsed into dataframe5 (df_5)"
   ]
  },
  {
   "cell_type": "code",
   "execution_count": 19,
   "metadata": {
    "collapsed": true
   },
   "outputs": [],
   "source": [
    "#Appending all the 5 dataframes into a single dataframe\n",
    "\n",
    "#df_2 has been appended into df_1\n",
    "df_1=df_1.append(df_2, ignore_index=True)"
   ]
  },
  {
   "cell_type": "code",
   "execution_count": 20,
   "metadata": {
    "collapsed": true
   },
   "outputs": [],
   "source": [
    "#df_3 has been appended into df_1\n",
    "df_1=df_1.append(df_3, ignore_index=True)"
   ]
  },
  {
   "cell_type": "code",
   "execution_count": 21,
   "metadata": {
    "collapsed": true
   },
   "outputs": [],
   "source": [
    "#df_4 has been appended into df_1\n",
    "df_1=df_1.append(df_4, ignore_index=True)"
   ]
  },
  {
   "cell_type": "code",
   "execution_count": 22,
   "metadata": {
    "collapsed": true
   },
   "outputs": [],
   "source": [
    "#df_5 has been appended into df_1\n",
    "df_1=df_1.append(df_5, ignore_index=True)"
   ]
  },
  {
   "cell_type": "code",
   "execution_count": 23,
   "metadata": {},
   "outputs": [
    {
     "data": {
      "text/plain": [
       "(341447, 135)"
      ]
     },
     "execution_count": 23,
     "metadata": {},
     "output_type": "execute_result"
    }
   ],
   "source": [
    "#terror_df is the copy of df1 where all other dataframes have been appended\n",
    "#df_1 acts as a backup dataframe \n",
    "terror_df=df_1.copy()\n",
    "\n",
    "# The number of rows and columns of terror_df, found out by pd.Dataframe.shape\n",
    "terror_df.shape"
   ]
  },
  {
   "cell_type": "markdown",
   "metadata": {},
   "source": [
    "#### B. The terror_df has a shape (341447, 135) which means there are 341447 rows and 135 columns. \n",
    "\n",
    "As the number was too much for the local machine to process, a random sample of 30% of the rows of terror_df is taken for analysis and model building, which then comes up to a shape of (102434, 135). "
   ]
  },
  {
   "cell_type": "code",
   "execution_count": 24,
   "metadata": {},
   "outputs": [
    {
     "data": {
      "text/plain": [
       "(102434, 135)"
      ]
     },
     "execution_count": 24,
     "metadata": {},
     "output_type": "execute_result"
    }
   ],
   "source": [
    "#Sampling 30% of original data and again storing it in terror_df\n",
    "terror_df = terror_df.sample(frac=0.3)\n",
    "\n",
    "# The number of rows and columns of terror_df, found out by pd.Dataframe.shape after Sampling\n",
    "terror_df.shape"
   ]
  },
  {
   "cell_type": "markdown",
   "metadata": {},
   "source": [
    "# 2. Data Cleaning and Pre-processing\n",
    "\n",
    "#### A. Data Cleaning:\n",
    "\n",
    "1. Getting to know which features are important to predict the dependant variable (\"gname\") from feature selection and also from various research papers.\n",
    "- \n",
    "\n",
    "2. To impute or drop the missing values"
   ]
  },
  {
   "cell_type": "code",
   "execution_count": 25,
   "metadata": {},
   "outputs": [
    {
     "data": {
      "text/plain": [
       "count      102434\n",
       "unique       2483\n",
       "top       Unknown\n",
       "freq        47021\n",
       "Name: gname, dtype: object"
      ]
     },
     "execution_count": 25,
     "metadata": {},
     "output_type": "execute_result"
    }
   ],
   "source": [
    "#Exploring the data \n",
    "\n",
    "terror_df[\"gname\"].describe()\n"
   ]
  },
  {
   "cell_type": "code",
   "execution_count": 26,
   "metadata": {
    "collapsed": true
   },
   "outputs": [],
   "source": [
    "df = [\n",
    "    \n",
    "    ## Spatio-Temporal Variables:\n",
    "                 'iyear',\n",
    "    \n",
    "    ## Binary Variables: \n",
    "                'extended', 'vicinity', 'crit1', 'crit2', 'crit3', 'doubtterr',\n",
    "                'multiple', 'success', 'suicide', \n",
    "                'claimed', 'property', \n",
    "    \n",
    "    ## Continuous Variables:\n",
    "                'nkill', 'nwound',               \n",
    "    \n",
    "    ## Categorical variables (textual): \n",
    "                'country_txt', 'attacktype1_txt', 'targtype1_txt',\n",
    "                'weaptype1_txt', \n",
    "    \n",
    "    ## Descriptive Variables: \n",
    "                'gname',    \n",
    "    \n",
    "                                            ]\n",
    "\n",
    "terror_df = terror_df.loc[:, df]\n",
    "\n",
    "# To avoid confusion, we restrict the dataset to only attacks that were of terrorist nature.\n",
    "\n",
    "terror_df = terror_df[(terror_df.crit1 == 1) & (terror_df.crit2 == 1) & (terror_df.crit3 == 1) & (terror_df.doubtterr == 0)]\n"
   ]
  },
  {
   "cell_type": "code",
   "execution_count": 27,
   "metadata": {
    "collapsed": true
   },
   "outputs": [],
   "source": [
    "frac = len(terror_df) * 0.8\n",
    "terror_df=terror_df.dropna(thresh=frac, axis=1)\n",
    "\n",
    "\n",
    "terror_df.weaptype1_txt.replace(\n",
    "    'Vehicle (not to include vehicle-borne explosives, i.e., car or truck bombs)',\n",
    "    'Vehicle', inplace = True)\n",
    "\n",
    "terror_df.replace(-9,0)\n",
    "\n",
    "terror_df.gname = terror_df.gname.str.lower()\n",
    "\n",
    "terror_df.nkill = np.round(terror_df.nkill.fillna(terror_df.nkill.median())).astype(int) \n",
    "terror_df.nwound = np.round(terror_df.nwound.fillna(terror_df.nwound.median())).astype(int) \n",
    "\n",
    "terror_df['ncasualties'] = terror_df['nkill'] + terror_df['nwound']\n",
    "terror_df['has_casualties'] = terror_df['ncasualties'].apply(lambda x: 0 if x == 0 else 1)\n",
    "terror_df= terror_df.drop(['nkill', 'nwound', 'ncasualties'], axis=1)"
   ]
  },
  {
   "cell_type": "code",
   "execution_count": 28,
   "metadata": {},
   "outputs": [
    {
     "name": "stdout",
     "output_type": "stream",
     "text": [
      "Missing values per column:\n",
      "iyear              0\n",
      "extended           0\n",
      "vicinity           0\n",
      "crit1              0\n",
      "crit2              0\n",
      "crit3              0\n",
      "doubtterr          0\n",
      "multiple           0\n",
      "success            0\n",
      "suicide            0\n",
      "property           0\n",
      "country_txt        0\n",
      "attacktype1_txt    0\n",
      "targtype1_txt      0\n",
      "weaptype1_txt      0\n",
      "gname              0\n",
      "has_casualties     0\n",
      "dtype: int64\n"
     ]
    }
   ],
   "source": [
    "#Create a new function:\n",
    "def num_missing(x):\n",
    "  return sum(x.isnull())\n",
    "\n",
    "#Applying per column:\n",
    "print (\"Missing values per column:\")\n",
    "print (terror_df.apply(num_missing, axis=0)) #axis=0 defines that function is to be applied on each column\n",
    "\n"
   ]
  },
  {
   "cell_type": "code",
   "execution_count": 29,
   "metadata": {
    "collapsed": true
   },
   "outputs": [],
   "source": [
    "import matplotlib.pyplot as plt\n",
    "import seaborn as sns\n",
    "%matplotlib inline"
   ]
  },
  {
   "cell_type": "code",
   "execution_count": 30,
   "metadata": {},
   "outputs": [
    {
     "data": {
      "image/png": "[encoded data removed]",
      "text/plain": [
       "<matplotlib.figure.Figure at 0x1f67d9e3358>"
      ]
     },
     "metadata": {},
     "output_type": "display_data"
    }
   ],
   "source": [
    "# Group wise terrorist attacks (top 20)\n",
    "country_by_attacks = terror_df[['gname','iyear']].groupby('gname').count().sort_values('iyear',ascending=0).head(20)\n",
    "country_by_attacks.plot(kind='bar',legend=False)\n",
    "plt.xlabel('Group Names')\n",
    "plt.ylabel('Attacks')\n",
    "plt.show()"
   ]
  },
  {
   "cell_type": "code",
   "execution_count": 31,
   "metadata": {
    "collapsed": true
   },
   "outputs": [],
   "source": [
    "unknown_df= terror_df[terror_df['gname'] == \"unknown\"]"
   ]
  },
  {
   "cell_type": "code",
   "execution_count": 32,
   "metadata": {},
   "outputs": [
    {
     "data": {
      "text/html": [
       "<div>\n",
       "<style>\n",
       "    .dataframe thead tr:only-child th {\n",
       "        text-align: right;\n",
       "    }\n",
       "\n",
       "    .dataframe thead th {\n",
       "        text-align: left;\n",
       "    }\n",
       "\n",
       "    .dataframe tbody tr th {\n",
       "        vertical-align: top;\n",
       "    }\n",
       "</style>\n",
       "<table border=\"1\" class=\"dataframe\">\n",
       "  <thead>\n",
       "    <tr style=\"text-align: right;\">\n",
       "      <th></th>\n",
       "      <th>iyear</th>\n",
       "      <th>extended</th>\n",
       "      <th>vicinity</th>\n",
       "      <th>crit1</th>\n",
       "      <th>crit2</th>\n",
       "      <th>crit3</th>\n",
       "      <th>doubtterr</th>\n",
       "      <th>multiple</th>\n",
       "      <th>success</th>\n",
       "      <th>suicide</th>\n",
       "      <th>property</th>\n",
       "      <th>country_txt</th>\n",
       "      <th>attacktype1_txt</th>\n",
       "      <th>targtype1_txt</th>\n",
       "      <th>weaptype1_txt</th>\n",
       "      <th>gname</th>\n",
       "      <th>has_casualties</th>\n",
       "    </tr>\n",
       "  </thead>\n",
       "  <tbody>\n",
       "    <tr>\n",
       "      <th>135298</th>\n",
       "      <td>2014</td>\n",
       "      <td>0</td>\n",
       "      <td>0</td>\n",
       "      <td>1</td>\n",
       "      <td>1</td>\n",
       "      <td>1</td>\n",
       "      <td>0</td>\n",
       "      <td>0</td>\n",
       "      <td>0.0</td>\n",
       "      <td>0</td>\n",
       "      <td>0</td>\n",
       "      <td>United Kingdom</td>\n",
       "      <td>Bombing/Explosion</td>\n",
       "      <td>Unknown</td>\n",
       "      <td>Explosives/Bombs/Dynamite</td>\n",
       "      <td>unknown</td>\n",
       "      <td>0</td>\n",
       "    </tr>\n",
       "    <tr>\n",
       "      <th>131322</th>\n",
       "      <td>2014</td>\n",
       "      <td>0</td>\n",
       "      <td>0</td>\n",
       "      <td>1</td>\n",
       "      <td>1</td>\n",
       "      <td>1</td>\n",
       "      <td>0</td>\n",
       "      <td>0</td>\n",
       "      <td>1.0</td>\n",
       "      <td>0</td>\n",
       "      <td>0</td>\n",
       "      <td>Iraq</td>\n",
       "      <td>Armed Assault</td>\n",
       "      <td>Terrorists/Non-State Militia</td>\n",
       "      <td>Firearms</td>\n",
       "      <td>unknown</td>\n",
       "      <td>1</td>\n",
       "    </tr>\n",
       "    <tr>\n",
       "      <th>193626</th>\n",
       "      <td>1984</td>\n",
       "      <td>0</td>\n",
       "      <td>0</td>\n",
       "      <td>1</td>\n",
       "      <td>1</td>\n",
       "      <td>1</td>\n",
       "      <td>0</td>\n",
       "      <td>1</td>\n",
       "      <td>1.0</td>\n",
       "      <td>0</td>\n",
       "      <td>1</td>\n",
       "      <td>Chile</td>\n",
       "      <td>Bombing/Explosion</td>\n",
       "      <td>Utilities</td>\n",
       "      <td>Explosives/Bombs/Dynamite</td>\n",
       "      <td>unknown</td>\n",
       "      <td>0</td>\n",
       "    </tr>\n",
       "    <tr>\n",
       "      <th>260684</th>\n",
       "      <td>2008</td>\n",
       "      <td>0</td>\n",
       "      <td>0</td>\n",
       "      <td>1</td>\n",
       "      <td>1</td>\n",
       "      <td>1</td>\n",
       "      <td>0</td>\n",
       "      <td>0</td>\n",
       "      <td>1.0</td>\n",
       "      <td>1</td>\n",
       "      <td>1</td>\n",
       "      <td>Afghanistan</td>\n",
       "      <td>Bombing/Explosion</td>\n",
       "      <td>Government (Diplomatic)</td>\n",
       "      <td>Explosives/Bombs/Dynamite</td>\n",
       "      <td>unknown</td>\n",
       "      <td>1</td>\n",
       "    </tr>\n",
       "    <tr>\n",
       "      <th>264925</th>\n",
       "      <td>2009</td>\n",
       "      <td>0</td>\n",
       "      <td>0</td>\n",
       "      <td>1</td>\n",
       "      <td>1</td>\n",
       "      <td>1</td>\n",
       "      <td>0</td>\n",
       "      <td>0</td>\n",
       "      <td>1.0</td>\n",
       "      <td>0</td>\n",
       "      <td>1</td>\n",
       "      <td>Georgia</td>\n",
       "      <td>Bombing/Explosion</td>\n",
       "      <td>Utilities</td>\n",
       "      <td>Explosives/Bombs/Dynamite</td>\n",
       "      <td>unknown</td>\n",
       "      <td>0</td>\n",
       "    </tr>\n",
       "    <tr>\n",
       "      <th>671</th>\n",
       "      <td>1971</td>\n",
       "      <td>0</td>\n",
       "      <td>0</td>\n",
       "      <td>1</td>\n",
       "      <td>1</td>\n",
       "      <td>1</td>\n",
       "      <td>0</td>\n",
       "      <td>0</td>\n",
       "      <td>1.0</td>\n",
       "      <td>0</td>\n",
       "      <td>1</td>\n",
       "      <td>West Germany (FRG)</td>\n",
       "      <td>Bombing/Explosion</td>\n",
       "      <td>Government (Diplomatic)</td>\n",
       "      <td>Explosives/Bombs/Dynamite</td>\n",
       "      <td>unknown</td>\n",
       "      <td>0</td>\n",
       "    </tr>\n",
       "    <tr>\n",
       "      <th>127221</th>\n",
       "      <td>2014</td>\n",
       "      <td>0</td>\n",
       "      <td>0</td>\n",
       "      <td>1</td>\n",
       "      <td>1</td>\n",
       "      <td>1</td>\n",
       "      <td>0</td>\n",
       "      <td>0</td>\n",
       "      <td>1.0</td>\n",
       "      <td>0</td>\n",
       "      <td>1</td>\n",
       "      <td>Libya</td>\n",
       "      <td>Assassination</td>\n",
       "      <td>Police</td>\n",
       "      <td>Firearms</td>\n",
       "      <td>unknown</td>\n",
       "      <td>1</td>\n",
       "    </tr>\n",
       "    <tr>\n",
       "      <th>320534</th>\n",
       "      <td>2015</td>\n",
       "      <td>0</td>\n",
       "      <td>0</td>\n",
       "      <td>1</td>\n",
       "      <td>1</td>\n",
       "      <td>1</td>\n",
       "      <td>0</td>\n",
       "      <td>1</td>\n",
       "      <td>1.0</td>\n",
       "      <td>0</td>\n",
       "      <td>0</td>\n",
       "      <td>Libya</td>\n",
       "      <td>Bombing/Explosion</td>\n",
       "      <td>Private Citizens &amp; Property</td>\n",
       "      <td>Explosives/Bombs/Dynamite</td>\n",
       "      <td>unknown</td>\n",
       "      <td>1</td>\n",
       "    </tr>\n",
       "    <tr>\n",
       "      <th>104693</th>\n",
       "      <td>2011</td>\n",
       "      <td>0</td>\n",
       "      <td>0</td>\n",
       "      <td>1</td>\n",
       "      <td>1</td>\n",
       "      <td>1</td>\n",
       "      <td>0</td>\n",
       "      <td>0</td>\n",
       "      <td>1.0</td>\n",
       "      <td>0</td>\n",
       "      <td>1</td>\n",
       "      <td>Iraq</td>\n",
       "      <td>Bombing/Explosion</td>\n",
       "      <td>Private Citizens &amp; Property</td>\n",
       "      <td>Explosives/Bombs/Dynamite</td>\n",
       "      <td>unknown</td>\n",
       "      <td>1</td>\n",
       "    </tr>\n",
       "    <tr>\n",
       "      <th>277500</th>\n",
       "      <td>2012</td>\n",
       "      <td>0</td>\n",
       "      <td>0</td>\n",
       "      <td>1</td>\n",
       "      <td>1</td>\n",
       "      <td>1</td>\n",
       "      <td>0</td>\n",
       "      <td>0</td>\n",
       "      <td>1.0</td>\n",
       "      <td>0</td>\n",
       "      <td>1</td>\n",
       "      <td>Pakistan</td>\n",
       "      <td>Bombing/Explosion</td>\n",
       "      <td>Utilities</td>\n",
       "      <td>Explosives/Bombs/Dynamite</td>\n",
       "      <td>unknown</td>\n",
       "      <td>0</td>\n",
       "    </tr>\n",
       "  </tbody>\n",
       "</table>\n",
       "</div>"
      ],
      "text/plain": [
       "        iyear  extended  vicinity  crit1  crit2  crit3  doubtterr  multiple  \\\n",
       "135298   2014         0         0      1      1      1          0         0   \n",
       "131322   2014         0         0      1      1      1          0         0   \n",
       "193626   1984         0         0      1      1      1          0         1   \n",
       "260684   2008         0         0      1      1      1          0         0   \n",
       "264925   2009         0         0      1      1      1          0         0   \n",
       "671      1971         0         0      1      1      1          0         0   \n",
       "127221   2014         0         0      1      1      1          0         0   \n",
       "320534   2015         0         0      1      1      1          0         1   \n",
       "104693   2011         0         0      1      1      1          0         0   \n",
       "277500   2012         0         0      1      1      1          0         0   \n",
       "\n",
       "        success  suicide  property         country_txt    attacktype1_txt  \\\n",
       "135298      0.0        0         0      United Kingdom  Bombing/Explosion   \n",
       "131322      1.0        0         0                Iraq      Armed Assault   \n",
       "193626      1.0        0         1               Chile  Bombing/Explosion   \n",
       "260684      1.0        1         1         Afghanistan  Bombing/Explosion   \n",
       "264925      1.0        0         1             Georgia  Bombing/Explosion   \n",
       "671         1.0        0         1  West Germany (FRG)  Bombing/Explosion   \n",
       "127221      1.0        0         1               Libya      Assassination   \n",
       "320534      1.0        0         0               Libya  Bombing/Explosion   \n",
       "104693      1.0        0         1                Iraq  Bombing/Explosion   \n",
       "277500      1.0        0         1            Pakistan  Bombing/Explosion   \n",
       "\n",
       "                       targtype1_txt              weaptype1_txt    gname  \\\n",
       "135298                       Unknown  Explosives/Bombs/Dynamite  unknown   \n",
       "131322  Terrorists/Non-State Militia                   Firearms  unknown   \n",
       "193626                     Utilities  Explosives/Bombs/Dynamite  unknown   \n",
       "260684       Government (Diplomatic)  Explosives/Bombs/Dynamite  unknown   \n",
       "264925                     Utilities  Explosives/Bombs/Dynamite  unknown   \n",
       "671          Government (Diplomatic)  Explosives/Bombs/Dynamite  unknown   \n",
       "127221                        Police                   Firearms  unknown   \n",
       "320534   Private Citizens & Property  Explosives/Bombs/Dynamite  unknown   \n",
       "104693   Private Citizens & Property  Explosives/Bombs/Dynamite  unknown   \n",
       "277500                     Utilities  Explosives/Bombs/Dynamite  unknown   \n",
       "\n",
       "        has_casualties  \n",
       "135298               0  \n",
       "131322               1  \n",
       "193626               0  \n",
       "260684               1  \n",
       "264925               0  \n",
       "671                  0  \n",
       "127221               1  \n",
       "320534               1  \n",
       "104693               1  \n",
       "277500               0  "
      ]
     },
     "execution_count": 32,
     "metadata": {},
     "output_type": "execute_result"
    }
   ],
   "source": [
    "unknown_df.head(10)"
   ]
  },
  {
   "cell_type": "code",
   "execution_count": 33,
   "metadata": {
    "collapsed": true
   },
   "outputs": [],
   "source": [
    "terror_df = terror_df[~terror_df.isin(unknown_df)]"
   ]
  },
  {
   "cell_type": "code",
   "execution_count": 34,
   "metadata": {
    "collapsed": true
   },
   "outputs": [],
   "source": [
    "terror_df.shape\n",
    "terror_df=terror_df.drop([\"iyear\"], axis=1)\n",
    "terror_df= terror_df.dropna()"
   ]
  },
  {
   "cell_type": "code",
   "execution_count": 35,
   "metadata": {},
   "outputs": [
    {
     "data": {
      "text/plain": [
       "(34610, 17)"
      ]
     },
     "execution_count": 35,
     "metadata": {},
     "output_type": "execute_result"
    }
   ],
   "source": [
    "unknown_df.shape"
   ]
  },
  {
   "cell_type": "code",
   "execution_count": 36,
   "metadata": {
    "collapsed": true
   },
   "outputs": [],
   "source": [
    "Y = terror_df[\"gname\"]\n"
   ]
  },
  {
   "cell_type": "code",
   "execution_count": 37,
   "metadata": {},
   "outputs": [
    {
     "data": {
      "text/plain": [
       "(43524,)"
      ]
     },
     "execution_count": 37,
     "metadata": {},
     "output_type": "execute_result"
    }
   ],
   "source": [
    "Y.shape"
   ]
  },
  {
   "cell_type": "code",
   "execution_count": 38,
   "metadata": {},
   "outputs": [
    {
     "data": {
      "text/plain": [
       "extended           float64\n",
       "vicinity           float64\n",
       "crit1              float64\n",
       "crit2              float64\n",
       "crit3              float64\n",
       "doubtterr          float64\n",
       "multiple           float64\n",
       "success            float64\n",
       "suicide            float64\n",
       "property           float64\n",
       "country_txt         object\n",
       "attacktype1_txt     object\n",
       "targtype1_txt       object\n",
       "weaptype1_txt       object\n",
       "has_casualties     float64\n",
       "dtype: object"
      ]
     },
     "execution_count": 38,
     "metadata": {},
     "output_type": "execute_result"
    }
   ],
   "source": [
    "X = terror_df.drop([\"gname\"], axis=1)\n",
    "X.dtypes"
   ]
  },
  {
   "cell_type": "code",
   "execution_count": 39,
   "metadata": {
    "collapsed": true
   },
   "outputs": [],
   "source": [
    "X[\"country_txt\"] = pd.get_dummies(X[\"country_txt\"])\n",
    "X[\"attacktype1_txt\"] = pd.get_dummies(X[\"attacktype1_txt\"])\n",
    "X[\"targtype1_txt\"] = pd.get_dummies(X[\"targtype1_txt\"])\n",
    "X[\"weaptype1_txt\"] = pd.get_dummies(X[\"weaptype1_txt\"])\n"
   ]
  },
  {
   "cell_type": "code",
   "execution_count": 40,
   "metadata": {
    "collapsed": true
   },
   "outputs": [],
   "source": [
    "Y_count= Y.value_counts()\n"
   ]
  },
  {
   "cell_type": "code",
   "execution_count": 41,
   "metadata": {
    "collapsed": true
   },
   "outputs": [],
   "source": [
    "Y_bins=pd.qcut(Y_count, [0, .5, .75, 1], labels=[\"Small Org\", \"Medium Org\" ,\"Dangerous Groups\"])\n"
   ]
  },
  {
   "cell_type": "code",
   "execution_count": 42,
   "metadata": {},
   "outputs": [
    {
     "data": {
      "text/plain": [
       "(2186,)"
      ]
     },
     "execution_count": 42,
     "metadata": {},
     "output_type": "execute_result"
    }
   ],
   "source": [
    "Y_bins.shape"
   ]
  },
  {
   "cell_type": "code",
   "execution_count": 43,
   "metadata": {
    "collapsed": true
   },
   "outputs": [],
   "source": [
    "Y_bins= Y_bins.to_dict()"
   ]
  },
  {
   "cell_type": "code",
   "execution_count": 44,
   "metadata": {
    "collapsed": true
   },
   "outputs": [],
   "source": [
    "Y=Y.reset_index()\n",
    "Y=Y.drop([\"index\"], axis=1)\n"
   ]
  },
  {
   "cell_type": "code",
   "execution_count": 45,
   "metadata": {},
   "outputs": [
    {
     "data": {
      "text/html": [
       "<div>\n",
       "<style>\n",
       "    .dataframe thead tr:only-child th {\n",
       "        text-align: right;\n",
       "    }\n",
       "\n",
       "    .dataframe thead th {\n",
       "        text-align: left;\n",
       "    }\n",
       "\n",
       "    .dataframe tbody tr th {\n",
       "        vertical-align: top;\n",
       "    }\n",
       "</style>\n",
       "<table border=\"1\" class=\"dataframe\">\n",
       "  <thead>\n",
       "    <tr style=\"text-align: right;\">\n",
       "      <th></th>\n",
       "      <th>gname</th>\n",
       "    </tr>\n",
       "  </thead>\n",
       "  <tbody>\n",
       "    <tr>\n",
       "      <th>0</th>\n",
       "      <td>shining path (sl)</td>\n",
       "    </tr>\n",
       "    <tr>\n",
       "      <th>1</th>\n",
       "      <td>allied democratic forces (adf)</td>\n",
       "    </tr>\n",
       "    <tr>\n",
       "      <th>2</th>\n",
       "      <td>al-nusrah front</td>\n",
       "    </tr>\n",
       "    <tr>\n",
       "      <th>3</th>\n",
       "      <td>revolutionary cells</td>\n",
       "    </tr>\n",
       "    <tr>\n",
       "      <th>4</th>\n",
       "      <td>tehrik-i-taliban pakistan (ttp)</td>\n",
       "    </tr>\n",
       "    <tr>\n",
       "      <th>5</th>\n",
       "      <td>taliban</td>\n",
       "    </tr>\n",
       "    <tr>\n",
       "      <th>6</th>\n",
       "      <td>islamic state of iraq and the levant (isil)</td>\n",
       "    </tr>\n",
       "    <tr>\n",
       "      <th>7</th>\n",
       "      <td>communist party of india - maoist (cpi-maoist)</td>\n",
       "    </tr>\n",
       "    <tr>\n",
       "      <th>8</th>\n",
       "      <td>farabundo marti national liberation front (fmln)</td>\n",
       "    </tr>\n",
       "    <tr>\n",
       "      <th>9</th>\n",
       "      <td>taliban</td>\n",
       "    </tr>\n",
       "    <tr>\n",
       "      <th>10</th>\n",
       "      <td>taliban</td>\n",
       "    </tr>\n",
       "    <tr>\n",
       "      <th>11</th>\n",
       "      <td>shining path (sl)</td>\n",
       "    </tr>\n",
       "    <tr>\n",
       "      <th>12</th>\n",
       "      <td>islamic state of iraq and the levant (isil)</td>\n",
       "    </tr>\n",
       "    <tr>\n",
       "      <th>13</th>\n",
       "      <td>taliban</td>\n",
       "    </tr>\n",
       "    <tr>\n",
       "      <th>14</th>\n",
       "      <td>farabundo marti national liberation front (fmln)</td>\n",
       "    </tr>\n",
       "    <tr>\n",
       "      <th>15</th>\n",
       "      <td>manuel rodriguez patriotic front (fpmr)</td>\n",
       "    </tr>\n",
       "    <tr>\n",
       "      <th>16</th>\n",
       "      <td>taliban</td>\n",
       "    </tr>\n",
       "    <tr>\n",
       "      <th>17</th>\n",
       "      <td>sandinista national liberation front (fsln)</td>\n",
       "    </tr>\n",
       "    <tr>\n",
       "      <th>18</th>\n",
       "      <td>taliban</td>\n",
       "    </tr>\n",
       "    <tr>\n",
       "      <th>19</th>\n",
       "      <td>taliban</td>\n",
       "    </tr>\n",
       "    <tr>\n",
       "      <th>20</th>\n",
       "      <td>boko haram</td>\n",
       "    </tr>\n",
       "    <tr>\n",
       "      <th>21</th>\n",
       "      <td>revolutionary armed forces of colombia (farc)</td>\n",
       "    </tr>\n",
       "    <tr>\n",
       "      <th>22</th>\n",
       "      <td>basque fatherland and freedom (eta)</td>\n",
       "    </tr>\n",
       "    <tr>\n",
       "      <th>23</th>\n",
       "      <td>new people's army (npa)</td>\n",
       "    </tr>\n",
       "    <tr>\n",
       "      <th>24</th>\n",
       "      <td>hamas (islamic resistance movement)</td>\n",
       "    </tr>\n",
       "    <tr>\n",
       "      <th>25</th>\n",
       "      <td>islamic state of iraq and the levant (isil)</td>\n",
       "    </tr>\n",
       "    <tr>\n",
       "      <th>26</th>\n",
       "      <td>taliban</td>\n",
       "    </tr>\n",
       "    <tr>\n",
       "      <th>27</th>\n",
       "      <td>popular forces of april 25</td>\n",
       "    </tr>\n",
       "    <tr>\n",
       "      <th>28</th>\n",
       "      <td>taliban</td>\n",
       "    </tr>\n",
       "    <tr>\n",
       "      <th>29</th>\n",
       "      <td>palestinians</td>\n",
       "    </tr>\n",
       "    <tr>\n",
       "      <th>...</th>\n",
       "      <td>...</td>\n",
       "    </tr>\n",
       "    <tr>\n",
       "      <th>970</th>\n",
       "      <td>taliban</td>\n",
       "    </tr>\n",
       "    <tr>\n",
       "      <th>971</th>\n",
       "      <td>boko haram</td>\n",
       "    </tr>\n",
       "    <tr>\n",
       "      <th>972</th>\n",
       "      <td>dissident republicans</td>\n",
       "    </tr>\n",
       "    <tr>\n",
       "      <th>973</th>\n",
       "      <td>islamic state of iraq and the levant (isil)</td>\n",
       "    </tr>\n",
       "    <tr>\n",
       "      <th>974</th>\n",
       "      <td>farabundo marti national liberation front (fmln)</td>\n",
       "    </tr>\n",
       "    <tr>\n",
       "      <th>975</th>\n",
       "      <td>basque fatherland and freedom (eta)</td>\n",
       "    </tr>\n",
       "    <tr>\n",
       "      <th>976</th>\n",
       "      <td>farabundo marti national liberation front (fmln)</td>\n",
       "    </tr>\n",
       "    <tr>\n",
       "      <th>977</th>\n",
       "      <td>national union for the total independence of a...</td>\n",
       "    </tr>\n",
       "    <tr>\n",
       "      <th>978</th>\n",
       "      <td>basque fatherland and freedom (eta)</td>\n",
       "    </tr>\n",
       "    <tr>\n",
       "      <th>979</th>\n",
       "      <td>al-shabaab</td>\n",
       "    </tr>\n",
       "    <tr>\n",
       "      <th>980</th>\n",
       "      <td>red army faction (raf)</td>\n",
       "    </tr>\n",
       "    <tr>\n",
       "      <th>981</th>\n",
       "      <td>left-wing extremists</td>\n",
       "    </tr>\n",
       "    <tr>\n",
       "      <th>982</th>\n",
       "      <td>al-nusrah front</td>\n",
       "    </tr>\n",
       "    <tr>\n",
       "      <th>983</th>\n",
       "      <td>khmer rouge</td>\n",
       "    </tr>\n",
       "    <tr>\n",
       "      <th>984</th>\n",
       "      <td>tupac amaru revolutionary movement (mrta)</td>\n",
       "    </tr>\n",
       "    <tr>\n",
       "      <th>985</th>\n",
       "      <td>al-nusrah front</td>\n",
       "    </tr>\n",
       "    <tr>\n",
       "      <th>986</th>\n",
       "      <td>taliban</td>\n",
       "    </tr>\n",
       "    <tr>\n",
       "      <th>987</th>\n",
       "      <td>national liberation army of colombia (eln)</td>\n",
       "    </tr>\n",
       "    <tr>\n",
       "      <th>988</th>\n",
       "      <td>separatists</td>\n",
       "    </tr>\n",
       "    <tr>\n",
       "      <th>989</th>\n",
       "      <td>maoists</td>\n",
       "    </tr>\n",
       "    <tr>\n",
       "      <th>990</th>\n",
       "      <td>al-shabaab</td>\n",
       "    </tr>\n",
       "    <tr>\n",
       "      <th>991</th>\n",
       "      <td>taliban</td>\n",
       "    </tr>\n",
       "    <tr>\n",
       "      <th>992</th>\n",
       "      <td>taliban</td>\n",
       "    </tr>\n",
       "    <tr>\n",
       "      <th>993</th>\n",
       "      <td>anti-imperialist international brigades</td>\n",
       "    </tr>\n",
       "    <tr>\n",
       "      <th>994</th>\n",
       "      <td>islamic salvation front (fis)</td>\n",
       "    </tr>\n",
       "    <tr>\n",
       "      <th>995</th>\n",
       "      <td>islamic state of iraq and the levant (isil)</td>\n",
       "    </tr>\n",
       "    <tr>\n",
       "      <th>996</th>\n",
       "      <td>armed revolutionary action (enedra)</td>\n",
       "    </tr>\n",
       "    <tr>\n",
       "      <th>997</th>\n",
       "      <td>basque terrorists</td>\n",
       "    </tr>\n",
       "    <tr>\n",
       "      <th>998</th>\n",
       "      <td>national union for the total independence of a...</td>\n",
       "    </tr>\n",
       "    <tr>\n",
       "      <th>999</th>\n",
       "      <td>taliban</td>\n",
       "    </tr>\n",
       "  </tbody>\n",
       "</table>\n",
       "<p>1000 rows × 1 columns</p>\n",
       "</div>"
      ],
      "text/plain": [
       "                                                 gname\n",
       "0                                    shining path (sl)\n",
       "1                       allied democratic forces (adf)\n",
       "2                                      al-nusrah front\n",
       "3                                  revolutionary cells\n",
       "4                      tehrik-i-taliban pakistan (ttp)\n",
       "5                                              taliban\n",
       "6          islamic state of iraq and the levant (isil)\n",
       "7       communist party of india - maoist (cpi-maoist)\n",
       "8     farabundo marti national liberation front (fmln)\n",
       "9                                              taliban\n",
       "10                                             taliban\n",
       "11                                   shining path (sl)\n",
       "12         islamic state of iraq and the levant (isil)\n",
       "13                                             taliban\n",
       "14    farabundo marti national liberation front (fmln)\n",
       "15             manuel rodriguez patriotic front (fpmr)\n",
       "16                                             taliban\n",
       "17         sandinista national liberation front (fsln)\n",
       "18                                             taliban\n",
       "19                                             taliban\n",
       "20                                          boko haram\n",
       "21       revolutionary armed forces of colombia (farc)\n",
       "22                 basque fatherland and freedom (eta)\n",
       "23                             new people's army (npa)\n",
       "24                 hamas (islamic resistance movement)\n",
       "25         islamic state of iraq and the levant (isil)\n",
       "26                                             taliban\n",
       "27                          popular forces of april 25\n",
       "28                                             taliban\n",
       "29                                        palestinians\n",
       "..                                                 ...\n",
       "970                                            taliban\n",
       "971                                         boko haram\n",
       "972                              dissident republicans\n",
       "973        islamic state of iraq and the levant (isil)\n",
       "974   farabundo marti national liberation front (fmln)\n",
       "975                basque fatherland and freedom (eta)\n",
       "976   farabundo marti national liberation front (fmln)\n",
       "977  national union for the total independence of a...\n",
       "978                basque fatherland and freedom (eta)\n",
       "979                                         al-shabaab\n",
       "980                             red army faction (raf)\n",
       "981                               left-wing extremists\n",
       "982                                    al-nusrah front\n",
       "983                                        khmer rouge\n",
       "984          tupac amaru revolutionary movement (mrta)\n",
       "985                                    al-nusrah front\n",
       "986                                            taliban\n",
       "987         national liberation army of colombia (eln)\n",
       "988                                        separatists\n",
       "989                                            maoists\n",
       "990                                         al-shabaab\n",
       "991                                            taliban\n",
       "992                                            taliban\n",
       "993            anti-imperialist international brigades\n",
       "994                      islamic salvation front (fis)\n",
       "995        islamic state of iraq and the levant (isil)\n",
       "996                armed revolutionary action (enedra)\n",
       "997                                  basque terrorists\n",
       "998  national union for the total independence of a...\n",
       "999                                            taliban\n",
       "\n",
       "[1000 rows x 1 columns]"
      ]
     },
     "execution_count": 45,
     "metadata": {},
     "output_type": "execute_result"
    }
   ],
   "source": [
    "Y.head(1000)\n"
   ]
  },
  {
   "cell_type": "code",
   "execution_count": 46,
   "metadata": {
    "collapsed": true
   },
   "outputs": [],
   "source": [
    "Label = []\n",
    "\n",
    "for x in Y[\"gname\"]:\n",
    "    for key, value in Y_bins.items():\n",
    "           if x==key:\n",
    "            Label.append(value)\n",
    "\n",
    "Y[\"Label\"]= pd.Series(Label)            "
   ]
  },
  {
   "cell_type": "code",
   "execution_count": 47,
   "metadata": {},
   "outputs": [
    {
     "data": {
      "text/html": [
       "<div>\n",
       "<style>\n",
       "    .dataframe thead tr:only-child th {\n",
       "        text-align: right;\n",
       "    }\n",
       "\n",
       "    .dataframe thead th {\n",
       "        text-align: left;\n",
       "    }\n",
       "\n",
       "    .dataframe tbody tr th {\n",
       "        vertical-align: top;\n",
       "    }\n",
       "</style>\n",
       "<table border=\"1\" class=\"dataframe\">\n",
       "  <thead>\n",
       "    <tr style=\"text-align: right;\">\n",
       "      <th></th>\n",
       "      <th>gname</th>\n",
       "      <th>Label</th>\n",
       "    </tr>\n",
       "  </thead>\n",
       "  <tbody>\n",
       "    <tr>\n",
       "      <th>0</th>\n",
       "      <td>shining path (sl)</td>\n",
       "      <td>Dangerous Groups</td>\n",
       "    </tr>\n",
       "    <tr>\n",
       "      <th>1</th>\n",
       "      <td>allied democratic forces (adf)</td>\n",
       "      <td>Dangerous Groups</td>\n",
       "    </tr>\n",
       "    <tr>\n",
       "      <th>2</th>\n",
       "      <td>al-nusrah front</td>\n",
       "      <td>Dangerous Groups</td>\n",
       "    </tr>\n",
       "    <tr>\n",
       "      <th>3</th>\n",
       "      <td>revolutionary cells</td>\n",
       "      <td>Dangerous Groups</td>\n",
       "    </tr>\n",
       "    <tr>\n",
       "      <th>4</th>\n",
       "      <td>tehrik-i-taliban pakistan (ttp)</td>\n",
       "      <td>Dangerous Groups</td>\n",
       "    </tr>\n",
       "    <tr>\n",
       "      <th>5</th>\n",
       "      <td>taliban</td>\n",
       "      <td>Dangerous Groups</td>\n",
       "    </tr>\n",
       "    <tr>\n",
       "      <th>6</th>\n",
       "      <td>islamic state of iraq and the levant (isil)</td>\n",
       "      <td>Dangerous Groups</td>\n",
       "    </tr>\n",
       "    <tr>\n",
       "      <th>7</th>\n",
       "      <td>communist party of india - maoist (cpi-maoist)</td>\n",
       "      <td>Dangerous Groups</td>\n",
       "    </tr>\n",
       "    <tr>\n",
       "      <th>8</th>\n",
       "      <td>farabundo marti national liberation front (fmln)</td>\n",
       "      <td>Dangerous Groups</td>\n",
       "    </tr>\n",
       "    <tr>\n",
       "      <th>9</th>\n",
       "      <td>taliban</td>\n",
       "      <td>Dangerous Groups</td>\n",
       "    </tr>\n",
       "  </tbody>\n",
       "</table>\n",
       "</div>"
      ],
      "text/plain": [
       "                                              gname             Label\n",
       "0                                 shining path (sl)  Dangerous Groups\n",
       "1                    allied democratic forces (adf)  Dangerous Groups\n",
       "2                                   al-nusrah front  Dangerous Groups\n",
       "3                               revolutionary cells  Dangerous Groups\n",
       "4                   tehrik-i-taliban pakistan (ttp)  Dangerous Groups\n",
       "5                                           taliban  Dangerous Groups\n",
       "6       islamic state of iraq and the levant (isil)  Dangerous Groups\n",
       "7    communist party of india - maoist (cpi-maoist)  Dangerous Groups\n",
       "8  farabundo marti national liberation front (fmln)  Dangerous Groups\n",
       "9                                           taliban  Dangerous Groups"
      ]
     },
     "execution_count": 47,
     "metadata": {},
     "output_type": "execute_result"
    }
   ],
   "source": [
    "Y.head(10)"
   ]
  },
  {
   "cell_type": "code",
   "execution_count": 48,
   "metadata": {
    "collapsed": true
   },
   "outputs": [],
   "source": [
    "Y= Y.drop([\"gname\"],axis=1)\n"
   ]
  },
  {
   "cell_type": "code",
   "execution_count": 49,
   "metadata": {
    "collapsed": true
   },
   "outputs": [],
   "source": [
    "Y = pd.get_dummies(Y)"
   ]
  },
  {
   "cell_type": "code",
   "execution_count": 50,
   "metadata": {
    "collapsed": true
   },
   "outputs": [],
   "source": [
    "from sklearn.ensemble import ExtraTreesClassifier\n",
    "\n",
    "from sklearn.model_selection import train_test_split\n",
    "\n",
    "\n",
    "# Split the data into 25% test and 75% training\n",
    "X_train, X_test, Y_train, Y_test = train_test_split(X, Y, test_size=0.25, random_state=0)"
   ]
  },
  {
   "cell_type": "code",
   "execution_count": 51,
   "metadata": {},
   "outputs": [
    {
     "data": {
      "text/plain": [
       "(43524, 15)"
      ]
     },
     "execution_count": 51,
     "metadata": {},
     "output_type": "execute_result"
    }
   ],
   "source": [
    "X.shape"
   ]
  },
  {
   "cell_type": "code",
   "execution_count": 52,
   "metadata": {},
   "outputs": [
    {
     "data": {
      "text/plain": [
       "(43524, 3)"
      ]
     },
     "execution_count": 52,
     "metadata": {},
     "output_type": "execute_result"
    }
   ],
   "source": [
    "Y.shape"
   ]
  },
  {
   "cell_type": "code",
   "execution_count": 53,
   "metadata": {},
   "outputs": [
    {
     "name": "stdout",
     "output_type": "stream",
     "text": [
      "('extended', 0.047278545066866323)\n",
      "('vicinity', 0.084292349532781891)\n",
      "('crit1', 0.0)\n",
      "('crit2', 0.0)\n",
      "('crit3', 0.0)\n",
      "('doubtterr', 0.0)\n",
      "('multiple', 0.23549294081876543)\n",
      "('success', 0.02717327810400761)\n",
      "('suicide', 0.028830562342478466)\n",
      "('claimed', 0.099010840116044427)\n",
      "('property', 0.19983226341594268)\n",
      "('nkill', 0.051062981050404098)\n",
      "('nwound', 0.010491029475412883)\n",
      "('country_txt', 0.032378187185554429)\n",
      "('attacktype1_txt', 0.1841570228917418)\n"
     ]
    }
   ],
   "source": [
    "classifier = ExtraTreesClassifier()\n",
    "\n",
    "\n",
    "feature_labels = [\n",
    "    \n",
    "    ## Spatio-Temporal Variables:\n",
    "                 \n",
    "    \n",
    "\n",
    "                'extended', 'vicinity', 'crit1', 'crit2', 'crit3', 'doubtterr',\n",
    "                'multiple', 'success', 'suicide', \n",
    "                'claimed', 'property', \n",
    "   \n",
    "                'nkill', 'nwound',               \n",
    "    \n",
    " \n",
    "                'country_txt', 'attacktype1_txt', 'targtype1_txt',\n",
    "                'weaptype1_txt']\n",
    "\n",
    "# Train the classifier\n",
    "classifier.fit(X, Y)\n",
    "for feature in zip(feature_labels, classifier.feature_importances_):\n",
    "    print(feature)"
   ]
  },
  {
   "cell_type": "code",
   "execution_count": 54,
   "metadata": {},
   "outputs": [
    {
     "data": {
      "image/png": "[encoded data removed]",
      "text/plain": [
       "<matplotlib.figure.Figure at 0x1f61a974908>"
      ]
     },
     "metadata": {},
     "output_type": "display_data"
    }
   ],
   "source": [
    "plt.style.use('fivethirtyeight')\n",
    "# list of x locations for plotting\n",
    "x_values = list(range(len(classifier.feature_importances_)))\n",
    "# Make a bar chart\n",
    "plt.bar(x_values, classifier.feature_importances_ , orientation = 'vertical')\n",
    "# Tick labels for x axis\n",
    "plt.xticks(x_values, feature_labels, rotation='vertical')\n",
    "# Axis labels and title\n",
    "plt.ylabel('Importance'); plt.xlabel('Variable'); plt.title('Variable Importances');"
   ]
  },
  {
   "cell_type": "code",
   "execution_count": 55,
   "metadata": {
    "collapsed": true
   },
   "outputs": [],
   "source": [
    "#LSTM\n",
    "X_train.drop([\"crit1\", \"crit2\", \"crit3\", \"doubtterr\"], axis=1)\n",
    "\n",
    "from sklearn.decomposition import PCA\n",
    "pca = PCA(n_components=2)\n",
    "pca.fit(X_train)\n",
    "X_train= pca.transform(X_train)\n",
    "\n"
   ]
  },
  {
   "cell_type": "code",
   "execution_count": 56,
   "metadata": {
    "collapsed": true
   },
   "outputs": [],
   "source": [
    "from sklearn.ensemble import RandomForestClassifier\n"
   ]
  },
  {
   "cell_type": "code",
   "execution_count": 57,
   "metadata": {
    "collapsed": true
   },
   "outputs": [],
   "source": []
  },
  {
   "cell_type": "code",
   "execution_count": null,
   "metadata": {
    "collapsed": true
   },
   "outputs": [],
   "source": []
  },
  {
   "cell_type": "code",
   "execution_count": null,
   "metadata": {
    "collapsed": true
   },
   "outputs": [],
   "source": []
  },
  {
   "cell_type": "code",
   "execution_count": null,
   "metadata": {
    "collapsed": true
   },
   "outputs": [],
   "source": []
  },
  {
   "cell_type": "code",
   "execution_count": null,
   "metadata": {
    "collapsed": true
   },
   "outputs": [],
   "source": []
  },
  {
   "cell_type": "code",
   "execution_count": null,
   "metadata": {
    "collapsed": true
   },
   "outputs": [],
   "source": []
  }
 ],
 "metadata": {
  "kernelspec": {
   "display_name": "Python 3",
   "language": "python",
   "name": "python3"
  },
  "language_info": {
   "codemirror_mode": {
    "name": "ipython",
    "version": 3
   },
   "file_extension": ".py",
   "mimetype": "text/x-python",
   "name": "python",
   "nbconvert_exporter": "python",
   "pygments_lexer": "ipython3",
   "version": "3.6.3"
  }
 },
 "nbformat": 4,
 "nbformat_minor": 2
}
